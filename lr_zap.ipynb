{
 "cells": [
  {
   "cell_type": "code",
   "execution_count": 2,
   "metadata": {},
   "outputs": [],
   "source": [
    "import torch\n",
    "import torch.nn as nn"
   ]
  },
  {
   "cell_type": "code",
   "execution_count": 26,
   "metadata": {},
   "outputs": [
    {
     "data": {
      "text/plain": [
       "tensor([[0.0000],\n",
       "        [0.0300],\n",
       "        [0.0600],\n",
       "        [0.0900],\n",
       "        [0.1200],\n",
       "        [0.1500],\n",
       "        [0.1800],\n",
       "        [0.2100],\n",
       "        [0.2400],\n",
       "        [0.2700]])"
      ]
     },
     "execution_count": 26,
     "metadata": {},
     "output_type": "execute_result"
    }
   ],
   "source": [
    "weight = 0.6\n",
    "bias = 0.2\n",
    "\n",
    "start = 0\n",
    "end = 2\n",
    "step = 0.03\n",
    "X = torch.arange(start,end,step).unsqueeze(dim=1)\n",
    "y = weight*X + bias\n",
    "\n",
    "X[0:10]"
   ]
  },
  {
   "cell_type": "code",
   "execution_count": 27,
   "metadata": {},
   "outputs": [
    {
     "data": {
      "text/plain": [
       "(53, 53, 14, 14)"
      ]
     },
     "execution_count": 27,
     "metadata": {},
     "output_type": "execute_result"
    }
   ],
   "source": [
    "train_split = int(len(X)*0.8)\n",
    "X_train,y_train = X[:train_split],y[:train_split]\n",
    "X_test,y_test = X[train_split:],y[train_split:]\n",
    "\n",
    "len(X_train),len(y_train),len(X_test),len(y_test)"
   ]
  },
  {
   "cell_type": "code",
   "execution_count": 28,
   "metadata": {},
   "outputs": [],
   "source": [
    "class LinearRegression(nn.Module):\n",
    "    def __init__(self, *args, **kwargs):\n",
    "        super().__init__()\n",
    "        self.weights = nn.Parameter(torch.randn(1,\n",
    "                                                requires_grad=True,\n",
    "                                                dtype=torch.float32))\n",
    "        self.bias = nn.Parameter(torch.randn(1,\n",
    "                                                requires_grad=True,\n",
    "                                                dtype=torch.float32))\n",
    "    \n",
    "    def forward(self,x:torch.Tensor):\n",
    "        return self.weights * x + self.bias\n",
    "    \n",
    "    \n",
    "    "
   ]
  },
  {
   "cell_type": "code",
   "execution_count": 29,
   "metadata": {},
   "outputs": [
    {
     "data": {
      "text/plain": [
       "([Parameter containing:\n",
       "  tensor([0.3367], requires_grad=True),\n",
       "  Parameter containing:\n",
       "  tensor([0.1288], requires_grad=True)],\n",
       " OrderedDict([('weights', tensor([0.3367])), ('bias', tensor([0.1288]))]))"
      ]
     },
     "execution_count": 29,
     "metadata": {},
     "output_type": "execute_result"
    }
   ],
   "source": [
    "torch.manual_seed(42)\n",
    "\n",
    "model = LinearRegression()\n",
    "\n",
    "list(model.parameters()),model.state_dict()"
   ]
  },
  {
   "cell_type": "code",
   "execution_count": 30,
   "metadata": {},
   "outputs": [
    {
     "data": {
      "text/plain": [
       "tensor([[0.6641],\n",
       "        [0.6742],\n",
       "        [0.6843],\n",
       "        [0.6944],\n",
       "        [0.7045],\n",
       "        [0.7147],\n",
       "        [0.7248],\n",
       "        [0.7349],\n",
       "        [0.7450],\n",
       "        [0.7551],\n",
       "        [0.7652],\n",
       "        [0.7753],\n",
       "        [0.7854],\n",
       "        [0.7955]])"
      ]
     },
     "execution_count": 30,
     "metadata": {},
     "output_type": "execute_result"
    }
   ],
   "source": [
    "with torch.inference_mode():\n",
    "    y_preds = model(X_test)\n",
    "y_preds"
   ]
  },
  {
   "cell_type": "code",
   "execution_count": 31,
   "metadata": {},
   "outputs": [],
   "source": [
    "loss_fn = nn.L1Loss()\n",
    "optimizer = torch.optim.SGD(params=model.parameters(),\n",
    "                            lr = 0.01)\n"
   ]
  },
  {
   "cell_type": "code",
   "execution_count": 32,
   "metadata": {},
   "outputs": [
    {
     "name": "stdout",
     "output_type": "stream",
     "text": [
      "OrderedDict([('weights', tensor([0.3445])), ('bias', tensor([0.1388]))])\n",
      "OrderedDict([('weights', tensor([0.3523])), ('bias', tensor([0.1488]))])\n",
      "OrderedDict([('weights', tensor([0.3601])), ('bias', tensor([0.1588]))])\n",
      "OrderedDict([('weights', tensor([0.3679])), ('bias', tensor([0.1688]))])\n",
      "OrderedDict([('weights', tensor([0.3757])), ('bias', tensor([0.1788]))])\n",
      "OrderedDict([('weights', tensor([0.3835])), ('bias', tensor([0.1888]))])\n",
      "OrderedDict([('weights', tensor([0.3913])), ('bias', tensor([0.1988]))])\n",
      "OrderedDict([('weights', tensor([0.3991])), ('bias', tensor([0.2088]))])\n",
      "OrderedDict([('weights', tensor([0.4069])), ('bias', tensor([0.2181]))])\n",
      "OrderedDict([('weights', tensor([0.4146])), ('bias', tensor([0.2265]))])\n"
     ]
    }
   ],
   "source": [
    "epochs = 10\n",
    "\n",
    "for epoch in range(epochs):\n",
    "    model.train()\n",
    "    \n",
    "    #forward pass\n",
    "    y_pred = model(X_train)\n",
    "    \n",
    "    #loss fn\n",
    "    loss = loss_fn(y_pred,y_train)\n",
    "    \n",
    "    #optimizer zero grad\n",
    "    optimizer.zero_grad()\n",
    "    \n",
    "    #backpropagation\n",
    "    loss.backward()\n",
    "    \n",
    "    \n",
    "    optimizer.step()\n",
    "    \n",
    "    model.eval()\n",
    "    \n",
    "    print(model.state_dict())"
   ]
  },
  {
   "cell_type": "code",
   "execution_count": null,
   "metadata": {},
   "outputs": [
    {
     "name": "stdout",
     "output_type": "stream",
     "text": [
      "Epoch: 0 | MAE Train Loss: 0.12096777558326721 | MAE Test Loss: 0.28253963589668274 \n",
      "Epoch: 10 | MAE Train Loss: 0.0480034314095974 | MAE Test Loss: 0.12227609008550644 \n",
      "Epoch: 20 | MAE Train Loss: 0.033110689371824265 | MAE Test Loss: 0.06758377701044083 \n",
      "Epoch: 30 | MAE Train Loss: 0.02398909255862236 | MAE Test Loss: 0.04733004793524742 \n",
      "Epoch: 40 | MAE Train Loss: 0.01490764506161213 | MAE Test Loss: 0.029083916917443275 \n",
      "Epoch: 50 | MAE Train Loss: 0.005827839020639658 | MAE Test Loss: 0.009833999909460545 \n",
      "Epoch: 60 | MAE Train Loss: 0.0065588983707129955 | MAE Test Loss: 0.015066231600940228 \n",
      "Epoch: 70 | MAE Train Loss: 0.0065588983707129955 | MAE Test Loss: 0.015066231600940228 \n",
      "Epoch: 80 | MAE Train Loss: 0.0065588983707129955 | MAE Test Loss: 0.015066231600940228 \n",
      "Epoch: 90 | MAE Train Loss: 0.0065588983707129955 | MAE Test Loss: 0.015066231600940228 \n",
      "Epoch: 100 | MAE Train Loss: 0.0065588983707129955 | MAE Test Loss: 0.015066231600940228 \n",
      "Epoch: 110 | MAE Train Loss: 0.0065588983707129955 | MAE Test Loss: 0.015066231600940228 \n",
      "Epoch: 120 | MAE Train Loss: 0.0065588983707129955 | MAE Test Loss: 0.015066231600940228 \n",
      "Epoch: 130 | MAE Train Loss: 0.0065588983707129955 | MAE Test Loss: 0.015066231600940228 \n",
      "Epoch: 140 | MAE Train Loss: 0.0065588983707129955 | MAE Test Loss: 0.015066231600940228 \n",
      "Epoch: 150 | MAE Train Loss: 0.0065588983707129955 | MAE Test Loss: 0.015066231600940228 \n",
      "Epoch: 160 | MAE Train Loss: 0.0065588983707129955 | MAE Test Loss: 0.015066231600940228 \n",
      "Epoch: 170 | MAE Train Loss: 0.0065588983707129955 | MAE Test Loss: 0.015066231600940228 \n",
      "Epoch: 180 | MAE Train Loss: 0.0065588983707129955 | MAE Test Loss: 0.015066231600940228 \n",
      "Epoch: 190 | MAE Train Loss: 0.0065588983707129955 | MAE Test Loss: 0.015066231600940228 \n"
     ]
    }
   ],
   "source": []
  },
  {
   "cell_type": "code",
   "execution_count": null,
   "metadata": {},
   "outputs": [],
   "source": []
  },
  {
   "cell_type": "code",
   "execution_count": 10,
   "metadata": {},
   "outputs": [
    {
     "name": "stdout",
     "output_type": "stream",
     "text": [
      "Epoch [100/1000], Loss: 0.0194\n",
      "Epoch [200/1000], Loss: 0.0107\n",
      "Epoch [300/1000], Loss: 0.0058\n",
      "Epoch [400/1000], Loss: 0.0032\n",
      "Epoch [500/1000], Loss: 0.0018\n",
      "Epoch [600/1000], Loss: 0.0010\n",
      "Epoch [700/1000], Loss: 0.0005\n",
      "Epoch [800/1000], Loss: 0.0003\n",
      "Epoch [900/1000], Loss: 0.0002\n",
      "Epoch [1000/1000], Loss: 0.0001\n",
      "Predictions: [[5.016022]\n",
      " [6.023801]]\n"
     ]
    }
   ],
   "source": [
    "import torch\n",
    "import torch.nn as nn\n",
    "import numpy as np\n",
    "\n",
    "class LinearRegression:\n",
    "    def __init__(self):\n",
    "        self.model = None\n",
    "    \n",
    "    def fit(self,X,y,learning_rate = 0.001,epochs=1000):\n",
    "        X = torch.tensor(X,dtype=torch.float32)\n",
    "        y = torch.tensor(y,dtype=torch.float32).view(-1,1)\n",
    "        \n",
    "        self.model = nn.Linear(X.shape[1],1)\n",
    "        \n",
    "        loss_fn = nn.MSELoss()\n",
    "        optimizer = torch.optim.SGD(self.model.parameters(),lr = learning_rate)\n",
    "        \n",
    "        for epoch in range(epochs):\n",
    "            y_pred = self.model(X)\n",
    "            loss = loss_fn(y_pred,y)\n",
    "            \n",
    "            optimizer.zero_grad()\n",
    "            loss.backward()\n",
    "            optimizer.step()\n",
    "            \n",
    "            if (epoch + 1) % 100 == 0:\n",
    "                print(f'Epoch [{epoch + 1}/{epochs}], Loss: {loss.item():.4f}')\n",
    "        \n",
    "        \n",
    "    def predict(self,X):\n",
    "        X = torch.tensor(X,dtype=torch.float32)\n",
    "        \n",
    "        with torch.no_grad():\n",
    "            y_pred = self.model(X)\n",
    "            \n",
    "        return y_pred.numpy()\n",
    "    \n",
    "if __name__ == \"__main__\":\n",
    "    X = np.array([[1], [2], [3], [4]], dtype=np.float32)  \n",
    "    y = np.array([1,2,3,4], dtype=np.float32)  \n",
    "    # np.random.seed(0)\n",
    "    # X = np.random.rand(100, 1) * 10  \n",
    "    # y = 3.5 * X.squeeze() + np.random.randn(100) * 0.5 \n",
    "\n",
    "    regressor = LinearRegression()\n",
    "    regressor.fit(X, y, epochs=1000, learning_rate=0.01)\n",
    "\n",
    "    # Make predictions\n",
    "    X_test = np.array([[5], [6]], dtype=np.float32)\n",
    "    predictions = regressor.predict(X_test)\n",
    "    print(\"Predictions:\", predictions)"
   ]
  },
  {
   "cell_type": "code",
   "execution_count": null,
   "metadata": {},
   "outputs": [],
   "source": []
  }
 ],
 "metadata": {
  "kernelspec": {
   "display_name": "Python 3",
   "language": "python",
   "name": "python3"
  },
  "language_info": {
   "codemirror_mode": {
    "name": "ipython",
    "version": 3
   },
   "file_extension": ".py",
   "mimetype": "text/x-python",
   "name": "python",
   "nbconvert_exporter": "python",
   "pygments_lexer": "ipython3",
   "version": "3.11.6"
  }
 },
 "nbformat": 4,
 "nbformat_minor": 2
}
