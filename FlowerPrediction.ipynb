{
 "cells": [
  {
   "cell_type": "code",
   "execution_count": 215,
   "id": "60b14ba5",
   "metadata": {},
   "outputs": [
    {
     "name": "stdout",
     "output_type": "stream",
     "text": [
      "2.6.0+cu124 True\n"
     ]
    }
   ],
   "source": [
    "import torch\n",
    "from torch import nn\n",
    "\n",
    "import torchvision\n",
    "from torchvision import datasets, transforms\n",
    "from torch.utils.data import DataLoader\n",
    "\n",
    "import numpy as np\n",
    "import matplotlib.pyplot as plt\n",
    "import matplotlib.image as mpimg\n",
    "import pandas as pd\n",
    "\n",
    "print(torch.__version__,torch.cuda.is_available())"
   ]
  },
  {
   "cell_type": "code",
   "execution_count": null,
   "id": "7104822c",
   "metadata": {},
   "outputs": [
    {
     "data": {
      "text/plain": [
       "(Dataset Flowers102\n",
       "     Number of datapoints: 1020\n",
       "     Root location: data\n",
       "     split=train\n",
       "     StandardTransform\n",
       " Transform: Compose(\n",
       "                Resize(size=(28, 28), interpolation=bilinear, max_size=None, antialias=True)\n",
       "                Grayscale(num_output_channels=1)\n",
       "                ToTensor()\n",
       "            ),\n",
       " Dataset Flowers102\n",
       "     Number of datapoints: 6149\n",
       "     Root location: data\n",
       "     split=test\n",
       "     StandardTransform\n",
       " Transform: Compose(\n",
       "                Resize(size=(28, 28), interpolation=bilinear, max_size=None, antialias=True)\n",
       "                Grayscale(num_output_channels=1)\n",
       "                ToTensor()\n",
       "            ))"
      ]
     },
     "execution_count": 87,
     "metadata": {},
     "output_type": "execute_result"
    }
   ],
   "source": [
    "transform = transforms.Compose([\n",
    "    transforms.Resize((28,28)),  # Resize all images to 28x28\n",
    "    transforms.Grayscale(num_output_channels=1),\n",
    "    transforms.ToTensor()\n",
    "])\n",
    "\n",
    "\n",
    "train_data = datasets.Flowers102(root=\"data\",\n",
    "                              split=\"train\",\n",
    "                              download=True,\n",
    "                              transform=transform,\n",
    "                              target_transform=None)\n",
    "\n",
    "\n",
    "test_data = datasets.Flowers102(root=\"data\",\n",
    "                              split=\"test\",\n",
    "                              download=True,\n",
    "                              transform=transform,\n",
    "                              target_transform=None)\n",
    "train_data,test_data"
   ]
  },
  {
   "cell_type": "code",
   "execution_count": 88,
   "id": "1e2eba9e",
   "metadata": {},
   "outputs": [],
   "source": [
    "class_names = [\n",
    "    \"pink primrose\", \"hard-leaved pocket orchid\", \"canterbury bells\", \"sweet pea\", \n",
    "    \"wild geranium\", \"tiger lily\", \"moon orchid\", \"bird of paradise\", \"monkshood\", \n",
    "    \"globe thistle\", \"snapdragon\", \"colt's foot\", \"king protea\", \"spear thistle\", \n",
    "    \"yellow iris\", \"globe flower\", \"purple coneflower\", \"peruvian lily\", \"balloon flower\", \n",
    "    \"giant white arum lily\", \"fire lily\", \"pincushion flower\", \"fritillary\", \"red ginger\", \n",
    "    \"grape hyacinth\", \"corn poppy\", \"prince of wales feathers\", \"stemless gentian\", \n",
    "    \"artichoke\", \"sweet william\", \"carnation\", \"garden phlox\", \"love in the mist\", \n",
    "    \"mexican aster\", \"alpine sea holly\", \"ruby-lipped cattleya\", \"cape flower\", \n",
    "    \"great masterwort\", \"siam tulip\", \"lenten rose\", \"barbeton daisy\", \"daffodil\", \n",
    "    \"sword lily\", \"poinsettia\", \"bolero deep blue\", \"wallflower\", \"marigold\", \n",
    "    \"buttercup\", \"oxeye daisy\", \"common dandelion\", \"petunia\", \"wild pansy\", \n",
    "    \"primula\", \"sunflower\", \"pelargonium\", \"bishop of llandaff\", \"gaura\", \n",
    "    \"geranium\", \"orange dahlia\", \"pink-yellow dahlia?\", \"cautleya spicata\", \n",
    "    \"japanese anemone\", \"black-eyed susan\", \"silverbush\", \"californian poppy\", \n",
    "    \"osteospermum\", \"spring crocus\", \"bearded iris\", \"windflower\", \"tree poppy\", \n",
    "    \"gazania\", \"azalea\", \"water lily\", \"rose\", \"thorn apple\", \"morning glory\", \n",
    "    \"passion flower\", \"lotus\", \"toad lily\", \"anthurium\", \"frangipani\", \"clematis\", \n",
    "    \"hibiscus\", \"columbine\", \"desert-rose\", \"tree mallow\", \"magnolia\", \n",
    "    \"cyclamen\", \"watercress\", \"canna lily\", \"hippeastrum\", \"bee balm\", \n",
    "    \"pink quill\", \"foxglove\", \"bougainvillea\", \"camellia\", \"mallow\", \n",
    "    \"mexican petunia\", \"bromelia\", \"blanket flower\", \"trumpet creeper\", \n",
    "    \"blackberry lily\"\n",
    "]\n"
   ]
  },
  {
   "cell_type": "code",
   "execution_count": 151,
   "id": "8cfb307e",
   "metadata": {},
   "outputs": [
    {
     "name": "stdout",
     "output_type": "stream",
     "text": [
      "torch.Size([1, 28, 28])\n"
     ]
    },
    {
     "data": {
      "image/png": "[encoded data removed]",
      "text/plain": [
       "<Figure size 640x480 with 1 Axes>"
      ]
     },
     "metadata": {},
     "output_type": "display_data"
    }
   ],
   "source": [
    "image,label = train_data[8]\n",
    "\n",
    "# plt.figure(figsize=(15,5))\n",
    "# plt.subplot(1,3,1)\n",
    "# plt.imshow(image.squeeze()[0], cmap='gray')\n",
    "# plt.title('Red Channel')\n",
    "# plt.subplot(1,3,2)\n",
    "# plt.imshow(image.squeeze()[1], cmap='gray')\n",
    "# plt.title('Green Channel')\n",
    "# plt.subplot(1,3,3)\n",
    "# plt.imshow(image.squeeze()[2], cmap='gray')\n",
    "# plt.title('Blue Channel')\n",
    "plt.axis(False)\n",
    "plt.title(class_names[8])\n",
    "plt.imshow(image[0])\n",
    "print(image.shape)"
   ]
  },
  {
   "cell_type": "code",
   "execution_count": 90,
   "id": "889fcd8b",
   "metadata": {},
   "outputs": [
    {
     "data": {
      "text/plain": [
       "(32, 193)"
      ]
     },
     "execution_count": 90,
     "metadata": {},
     "output_type": "execute_result"
    }
   ],
   "source": [
    "BATCH_SIZE = 32\n",
    "\n",
    "train_dataloader = DataLoader(train_data,\n",
    "                              batch_size=BATCH_SIZE,\n",
    "                              shuffle=True)\n",
    "\n",
    "\n",
    "test_dataloader = DataLoader(test_data,\n",
    "                              batch_size=BATCH_SIZE,\n",
    "                              shuffle=False)\n",
    "\n",
    "\n",
    "len(train_dataloader),len(test_dataloader)"
   ]
  },
  {
   "cell_type": "code",
   "execution_count": 91,
   "id": "ee22f2db",
   "metadata": {},
   "outputs": [
    {
     "data": {
      "text/plain": [
       "(torch.Size([32, 1, 28, 28]), torch.Size([32]))"
      ]
     },
     "execution_count": 91,
     "metadata": {},
     "output_type": "execute_result"
    }
   ],
   "source": [
    "train_features_batch,train_labels_batch = next(iter(test_dataloader))\n",
    "train_features_batch.shape,train_labels_batch.shape"
   ]
  },
  {
   "cell_type": "code",
   "execution_count": 92,
   "id": "26162b72",
   "metadata": {},
   "outputs": [
    {
     "data": {
      "text/plain": [
       "(-0.5, 27.5, 27.5, -0.5)"
      ]
     },
     "execution_count": 92,
     "metadata": {},
     "output_type": "execute_result"
    },
    {
     "data": {
      "image/png": "[encoded data removed]",
      "text/plain": [
       "<Figure size 640x480 with 1 Axes>"
      ]
     },
     "metadata": {},
     "output_type": "display_data"
    }
   ],
   "source": [
    "torch.manual_seed(42)\n",
    "train_idx = torch.randint(0,len(train_features_batch),size=[1]).item()\n",
    "img,label = train_features_batch[train_idx], train_labels_batch[train_idx]\n",
    "plt.imshow(img.squeeze(),cmap=\"gray\")\n",
    "plt.title(class_names[label])\n",
    "plt.axis(False)"
   ]
  },
  {
   "cell_type": "code",
   "execution_count": 93,
   "id": "efb33209",
   "metadata": {},
   "outputs": [
    {
     "name": "stdout",
     "output_type": "stream",
     "text": [
      "Before Flattening torch.Size([1, 28, 28]) \n",
      "After Flattening torch.Size([1, 784])\n"
     ]
    }
   ],
   "source": [
    "flatten_model = nn.Flatten()\n",
    "\n",
    "x = train_features_batch[0]\n",
    "\n",
    "output = flatten_model(x)\n",
    "\n",
    "print(f\"Before Flattening {x.shape} \")\n",
    "print(f\"After Flattening {output.shape}\")"
   ]
  },
  {
   "cell_type": "code",
   "execution_count": 94,
   "id": "96fca930",
   "metadata": {},
   "outputs": [
    {
     "data": {
      "text/plain": [
       "'cuda'"
      ]
     },
     "execution_count": 94,
     "metadata": {},
     "output_type": "execute_result"
    }
   ],
   "source": [
    "device = \"cuda\" if torch.cuda.is_available() else \"cpu\"\n",
    "device"
   ]
  },
  {
   "cell_type": "code",
   "execution_count": 95,
   "id": "c19e77c7",
   "metadata": {},
   "outputs": [],
   "source": [
    "class FlowerModelBase(nn.Module):\n",
    "    \n",
    "    def __init__(self, input_shape,hidden_units,output_shape):\n",
    "        super().__init__()\n",
    "        \n",
    "        self.layers = nn.Sequential(\n",
    "            nn.Flatten(),\n",
    "            nn.Linear(in_features=input_shape,out_features=hidden_units),\n",
    "            nn.Linear(in_features=hidden_units,out_features=output_shape)\n",
    "        )\n",
    "    \n",
    "    def forward(self,x):\n",
    "        return self.layers(x)\n",
    "    "
   ]
  },
  {
   "cell_type": "code",
   "execution_count": 96,
   "id": "807f881d",
   "metadata": {},
   "outputs": [
    {
     "data": {
      "text/plain": [
       "FlowerModelBase(\n",
       "  (layers): Sequential(\n",
       "    (0): Flatten(start_dim=1, end_dim=-1)\n",
       "    (1): Linear(in_features=784, out_features=10, bias=True)\n",
       "    (2): Linear(in_features=10, out_features=102, bias=True)\n",
       "  )\n",
       ")"
      ]
     },
     "execution_count": 96,
     "metadata": {},
     "output_type": "execute_result"
    }
   ],
   "source": [
    "model_0 = FlowerModelBase(input_shape=28*28,hidden_units=10,output_shape=len(class_names)).to(device)\n",
    "model_0"
   ]
  },
  {
   "cell_type": "code",
   "execution_count": 97,
   "id": "f64c628f",
   "metadata": {},
   "outputs": [
    {
     "name": "stdout",
     "output_type": "stream",
     "text": [
      "File Already Exists, Skipping Download....\n"
     ]
    }
   ],
   "source": [
    "import requests\n",
    "from pathlib import Path\n",
    "github_file_link = \"https://raw.githubusercontent.com/mrdbourke/pytorch-deep-learning/blob/main/helper_functions.py\"\n",
    "if Path(\"helper_functions.py\").is_file():\n",
    "    print(\"File Already Exists, Skipping Download....\")\n",
    "else:\n",
    "    response = requests.get(github_file_link)\n",
    "\n",
    "    if response.status_code==200:\n",
    "        with open(\"helper_functions.py\",\"wb\") as f:\n",
    "            f.write(response.content)\n",
    "    else:\n",
    "        print(\"File Download Error\")"
   ]
  },
  {
   "cell_type": "code",
   "execution_count": 98,
   "id": "5ef1b0ba",
   "metadata": {},
   "outputs": [
    {
     "data": {
      "text/plain": [
       "<function helper_functions.accuracy_fn(y_true, y_pred)>"
      ]
     },
     "execution_count": 98,
     "metadata": {},
     "output_type": "execute_result"
    }
   ],
   "source": [
    "from helper_functions import accuracy_fn\n",
    "\n",
    "accuracy_fn"
   ]
  },
  {
   "cell_type": "code",
   "execution_count": 99,
   "id": "e7e536ff",
   "metadata": {},
   "outputs": [
    {
     "name": "stdout",
     "output_type": "stream",
     "text": [
      "Train Time on cpu is 0.0000\n"
     ]
    },
    {
     "data": {
      "text/plain": [
       "9.75700095295906e-06"
      ]
     },
     "execution_count": 99,
     "metadata": {},
     "output_type": "execute_result"
    }
   ],
   "source": [
    "from timeit import default_timer as timer\n",
    "\n",
    "\n",
    "def execution_time(start_time,end_time, device):\n",
    "    total_time = end_time-start_time\n",
    "    print(f\"Train Time on {device} is {total_time:.4f}\")\n",
    "    return total_time\n",
    "\n",
    "start_time = timer()\n",
    "\n",
    "end_time = timer()\n",
    "\n",
    "execution_time(start_time,end_time,\"cpu\")"
   ]
  },
  {
   "cell_type": "code",
   "execution_count": 100,
   "id": "5171b408",
   "metadata": {},
   "outputs": [],
   "source": [
    "loss_fn = nn.CrossEntropyLoss()\n",
    "optimizer = torch.optim.SGD(params=model_0.parameters(),lr=0.01)\n"
   ]
  },
  {
   "cell_type": "code",
   "execution_count": 103,
   "id": "4782dbe1",
   "metadata": {},
   "outputs": [
    {
     "data": {
      "application/vnd.jupyter.widget-view+json": {
       "model_id": "ea012c358d43468d80f41cde82505404",
       "version_major": 2,
       "version_minor": 0
      },
      "text/plain": [
       "  0%|          | 0/1 [00:00<?, ?it/s]"
      ]
     },
     "metadata": {},
     "output_type": "display_data"
    },
    {
     "name": "stdout",
     "output_type": "stream",
     "text": [
      "Epoch 0\n",
      "\n",
      "Train Epoch: 0 [0/1020 (0%)]\tLoss: 4.666233\n",
      "Train Epoch: 0 [640/1020 (62%)]\tLoss: 4.622321\n",
      " Train Loss: 4.6417 || Test Loss 0.0243\n",
      "Train Time on cuda:0 is 14.1873\n"
     ]
    }
   ],
   "source": [
    "from tqdm.auto import tqdm\n",
    "\n",
    "torch.manual_seed(42)\n",
    "\n",
    "train_time_on_cpu_start = timer()\n",
    "\n",
    "\n",
    "epochs =1\n",
    "\n",
    "for epoch in tqdm(range(epochs)):\n",
    "    print(f\"Epoch {epoch}\\n\")\n",
    "    \n",
    "    train_loss=0\n",
    "    for batch,(X,y) in enumerate(train_dataloader):\n",
    "        model_0.train()\n",
    "        X,y = X.to(device),y.to(device)\n",
    "        y_pred = model_0(X)\n",
    "        \n",
    "        loss = loss_fn(y_pred,y)\n",
    "        \n",
    "        train_loss +=loss\n",
    "        \n",
    "        optimizer.zero_grad()\n",
    "        \n",
    "        loss.backward()\n",
    "        \n",
    "        optimizer.step()\n",
    "        \n",
    "        \n",
    "        \n",
    "        n = len(train_dataloader.dataset)\n",
    "        if batch%20 == 0:\n",
    "            print(f'Train Epoch: {epoch} [{batch * len(X)}/{n} '\n",
    "                  f'({100. * batch / len(train_dataloader):.0f}%)]\\tLoss: {loss.item():.6f}')\n",
    "    \n",
    "    train_loss /= len(train_dataloader)\n",
    "    \n",
    "    \n",
    "    test_loss,test_acc = 0,0\n",
    "    \n",
    "    model_0.eval()\n",
    "    \n",
    "    with torch.inference_mode():\n",
    "        \n",
    "        \n",
    "        for X_test,y_test in test_dataloader:\n",
    "            X_test,y_test = X_test.to(device),y_test.to(device)\n",
    "            test_pred = model_0(X_test)\n",
    "            \n",
    "            test_loss+=loss_fn(test_pred,y_test)\n",
    "            \n",
    "            test_acc += accuracy_fn(y_test,test_pred.argmax(dim=1))\n",
    "            \n",
    "            test_loss/=len(test_dataloader)\n",
    "            \n",
    "            test_acc/=len(test_dataloader)\n",
    "            \n",
    "\n",
    "    print(f\" Train Loss: {train_loss:.4f} || Test Loss {test_loss:.4f}\")\n",
    "    \n",
    "\n",
    "train_time_on_cpu_end = timer()\n",
    "\n",
    "\n",
    "exec_time = execution_time(train_time_on_cpu_start,train_time_on_cpu_end,str(next(model_0.parameters()).device))\n",
    "\n",
    "\n"
   ]
  },
  {
   "cell_type": "code",
   "execution_count": 104,
   "id": "67f97ea1",
   "metadata": {},
   "outputs": [
    {
     "data": {
      "text/plain": [
       "{'model_name': 'FlowerModelBase',\n",
       " 'model_loss': 4.637142181396484,\n",
       " 'model_acc': 0.8095854922279793}"
      ]
     },
     "execution_count": 104,
     "metadata": {},
     "output_type": "execute_result"
    }
   ],
   "source": [
    "from helper_functions import accuracy_fn\n",
    "\n",
    "acc_fn = accuracy_fn\n",
    "torch.manual_seed(42)\n",
    "def eval_model(model: torch.nn.Module, \n",
    "               data_loader: torch.utils.data.DataLoader, \n",
    "               loss_fn: torch.nn.Module, \n",
    "               accuracy_fn,device):\n",
    "    loss, acc = 0, 0\n",
    "    model.eval()\n",
    "    with torch.inference_mode():\n",
    "        for X, y in data_loader:\n",
    "            \n",
    "            X,y =X.to(device),y.to(device)\n",
    "            y_pred = model(X)\n",
    "            \n",
    "            \n",
    "            loss += loss_fn(y_pred, y)\n",
    "            acc += accuracy_fn(y_true=y, \n",
    "                                y_pred=y_pred.argmax(dim=1)) \n",
    "        \n",
    "        \n",
    "        loss /= len(data_loader)\n",
    "        acc /= len(data_loader)\n",
    "        \n",
    "    return {\"model_name\": model.__class__.__name__, \n",
    "            \"model_loss\": loss.item(),\n",
    "            \"model_acc\": acc}\n",
    "\n",
    "# Calculate model 0 results on test dataset\n",
    "model_0_results = eval_model(model=model_0, data_loader=test_dataloader,\n",
    "    loss_fn=loss_fn,accuracy_fn=acc_fn,device=device)\n",
    "model_0_results"
   ]
  },
  {
   "cell_type": "code",
   "execution_count": 105,
   "id": "65ef41ed",
   "metadata": {},
   "outputs": [],
   "source": [
    "class FlowerModelSmall(nn.Module):\n",
    "    \n",
    "    def __init__(self, input_shape,hidden_units,output_shape):\n",
    "        super().__init__()\n",
    "        \n",
    "        self.layers = nn.Sequential(\n",
    "            nn.Flatten(),\n",
    "            nn.Linear(in_features=input_shape,out_features=hidden_units),\n",
    "            nn.ReLU(),\n",
    "            nn.Linear(in_features=hidden_units,out_features=output_shape),\n",
    "            nn.Sigmoid()\n",
    "        )\n",
    "    \n",
    "    def forward(self,x):\n",
    "        return self.layers(x)\n",
    "    \n",
    "    "
   ]
  },
  {
   "cell_type": "code",
   "execution_count": 209,
   "id": "add954e2",
   "metadata": {},
   "outputs": [],
   "source": [
    "from tqdm.auto import tqdm\n",
    "\n",
    "\n",
    "torch.manual_seed(42)\n",
    "def train_step(model,optimizer,loss_fn,train_dataloader,device):\n",
    "\n",
    "    train_loss,train_acc=0,0\n",
    "    for batch,(X,y) in enumerate(train_dataloader):\n",
    "        X,y = X.to(device),y.to(device)\n",
    "        model.train()\n",
    "        \n",
    "        y_pred = model(X)\n",
    "        \n",
    "        loss = loss_fn(y_pred,y)\n",
    "        \n",
    "        train_loss +=loss\n",
    "        \n",
    "        train_acc += accuracy_fn(y,y_pred.argmax(dim=1))\n",
    "        \n",
    "        optimizer.zero_grad()\n",
    "        \n",
    "        loss.backward()\n",
    "        \n",
    "        optimizer.step()\n",
    "        \n",
    "        \n",
    "    train_loss /= len(train_dataloader)\n",
    "    train_acc /= len(train_dataloader)\n",
    "\n",
    "    print(f\" Train Loss: {train_loss:.4f} || Train Accuracy {train_acc:.2f}%\")\n",
    "    return train_loss,train_acc\n",
    "\n",
    "\n",
    "def test_step(model,loss_fn,test_dataloader,device):\n",
    "    test_loss,test_acc = 0.0,0\n",
    "    \n",
    "    model.eval()\n",
    "    \n",
    "    with torch.inference_mode():\n",
    "        for X_test,y_test in test_dataloader:\n",
    "            X_test,y_test = X_test.to(device),y_test.to(device)\n",
    "            test_pred = model(X_test)\n",
    "            \n",
    "            test_loss+=loss_fn(test_pred,y_test)\n",
    "            \n",
    "            test_acc += accuracy_fn(y_test,test_pred.argmax(dim=1))\n",
    "            \n",
    "        test_loss/=len(test_dataloader)\n",
    "        \n",
    "        test_acc/=len(test_dataloader)\n",
    "\n",
    "    print(f\" Test Loss: {test_acc:.4f} || Test Accuracy {test_acc:.2f}%\")\n"
   ]
  },
  {
   "cell_type": "code",
   "execution_count": 110,
   "id": "9da86348",
   "metadata": {},
   "outputs": [
    {
     "data": {
      "application/vnd.jupyter.widget-view+json": {
       "model_id": "879433d48cdf486a8d5b481a4abb8be4",
       "version_major": 2,
       "version_minor": 0
      },
      "text/plain": [
       "  0%|          | 0/3 [00:00<?, ?it/s]"
      ]
     },
     "metadata": {},
     "output_type": "display_data"
    },
    {
     "name": "stdout",
     "output_type": "stream",
     "text": [
      "Epoch 0\n",
      "\n",
      " Train Loss: 4.6269 || Train Accuracy 1.0742\n",
      " Test Loss: 0.8420 || Test Accuracy 0.8420\n",
      "Epoch 1\n",
      "\n",
      " Train Loss: 4.6267 || Train Accuracy 1.0882\n",
      " Test Loss: 0.8420 || Test Accuracy 0.8420\n",
      "Epoch 2\n",
      "\n",
      " Train Loss: 4.6265 || Train Accuracy 0.9766\n",
      " Test Loss: 0.8905 || Test Accuracy 0.8905\n",
      "Train Time on cuda is 41.8606\n"
     ]
    },
    {
     "data": {
      "text/plain": [
       "41.86063159300102"
      ]
     },
     "execution_count": 110,
     "metadata": {},
     "output_type": "execute_result"
    }
   ],
   "source": [
    "from timeit import default_timer as timer\n",
    "\n",
    "\n",
    "\n",
    "model_1 = FlowerModelSmall(input_shape=784,hidden_units=10,output_shape=len(class_names)).to(device)\n",
    "loss_fn = nn.CrossEntropyLoss()\n",
    "optimizer = torch.optim.SGD(model_1.parameters(),lr=0.01)\n",
    "\n",
    "\n",
    "train_time_on_gpu_start = timer()\n",
    "epochs = 3\n",
    "for epoch in tqdm(range(epochs)):\n",
    "    print(f\"Epoch {epoch}\\n\")\n",
    "    \n",
    "    train_step(model_1,optimizer,loss_fn,train_dataloader,device)\n",
    "    test_step(model_1,loss_fn,test_dataloader,device)    \n",
    "    \n",
    "    \n",
    "train_time_on_gpu_end = timer()\n",
    "\n",
    "\n",
    "total_train_time_model_1 = execution_time(train_time_on_gpu_start,train_time_on_gpu_end,device)\n",
    "total_train_time_model_1"
   ]
  },
  {
   "cell_type": "code",
   "execution_count": 111,
   "id": "f5598f54",
   "metadata": {},
   "outputs": [
    {
     "data": {
      "text/plain": [
       "{'model_name': 'FlowerModelSmall',\n",
       " 'model_loss': 4.625186443328857,\n",
       " 'model_acc': 0.8905440414507773}"
      ]
     },
     "execution_count": 111,
     "metadata": {},
     "output_type": "execute_result"
    }
   ],
   "source": [
    "model_1_results = eval_model(model_1,test_dataloader,loss_fn,acc_fn,device)\n",
    "model_1_results"
   ]
  },
  {
   "cell_type": "code",
   "execution_count": 112,
   "id": "8986140e",
   "metadata": {},
   "outputs": [
    {
     "name": "stdout",
     "output_type": "stream",
     "text": [
      "Mon Apr 28 19:40:08 2025       \n",
      "+-----------------------------------------------------------------------------------------+\n",
      "| NVIDIA-SMI 550.120                Driver Version: 550.120        CUDA Version: 12.4     |\n",
      "|-----------------------------------------+------------------------+----------------------+\n",
      "| GPU  Name                 Persistence-M | Bus-Id          Disp.A | Volatile Uncorr. ECC |\n",
      "| Fan  Temp   Perf          Pwr:Usage/Cap |           Memory-Usage | GPU-Util  Compute M. |\n",
      "|                                         |                        |               MIG M. |\n",
      "|=========================================+========================+======================|\n",
      "|   0  NVIDIA GeForce RTX 4060 ...    Off |   00000000:01:00.0 Off |                  N/A |\n",
      "| N/A   47C    P0             17W /   80W |     821MiB /   8188MiB |      4%      Default |\n",
      "|                                         |                        |                  N/A |\n",
      "+-----------------------------------------+------------------------+----------------------+\n",
      "                                                                                         \n",
      "+-----------------------------------------------------------------------------------------+\n",
      "| Processes:                                                                              |\n",
      "|  GPU   GI   CI        PID   Type   Process name                              GPU Memory |\n",
      "|        ID   ID                                                               Usage      |\n",
      "|=========================================================================================|\n",
      "|    0   N/A  N/A      1541      G   /usr/lib/xorg/Xorg                            232MiB |\n",
      "|    0   N/A  N/A      2007      G   /usr/bin/gnome-shell                           31MiB |\n",
      "|    0   N/A  N/A      4705      G   /usr/bin/gjs                                   14MiB |\n",
      "|    0   N/A  N/A      5721      G   /opt/brave.com/brave/brave                      2MiB |\n",
      "|    0   N/A  N/A      5773      G   ...dce53a9c8f623dd28fff2540a8d57a08bc3         77MiB |\n",
      "|    0   N/A  N/A      6839      G   ...erProcess --variations-seed-version        189MiB |\n",
      "|    0   N/A  N/A    404715      C   /bin/python                                   146MiB |\n",
      "|    0   N/A  N/A    606609      G   /usr/bin/vlc                                  105MiB |\n",
      "+-----------------------------------------------------------------------------------------+\n"
     ]
    }
   ],
   "source": [
    "!nvidia-smi"
   ]
  },
  {
   "cell_type": "code",
   "execution_count": 113,
   "id": "e7fa642a",
   "metadata": {},
   "outputs": [
    {
     "data": {
      "text/plain": [
       "({'model_name': 'FlowerModelBase',\n",
       "  'model_loss': 4.637142181396484,\n",
       "  'model_acc': 0.8095854922279793},\n",
       " {'model_name': 'FlowerModelSmall',\n",
       "  'model_loss': 4.625186443328857,\n",
       "  'model_acc': 0.8905440414507773})"
      ]
     },
     "execution_count": 113,
     "metadata": {},
     "output_type": "execute_result"
    }
   ],
   "source": [
    "model_0_results,model_1_results"
   ]
  },
  {
   "cell_type": "code",
   "execution_count": 192,
   "id": "e9b5f070",
   "metadata": {},
   "outputs": [],
   "source": [
    "\n",
    "class FlowerModelCNNBase(nn.Module):\n",
    "    def __init__(self,input_shape,hidden_units,output_shape):\n",
    "        super(FlowerModelCNNBase,self).__init__()\n",
    "        \n",
    "        self.conv_block_1 = nn.Sequential(\n",
    "            nn.Conv2d(in_channels=input_shape,\n",
    "                      out_channels=hidden_units,\n",
    "                      padding=1,\n",
    "                      stride=1,\n",
    "                      kernel_size=4),\n",
    "            nn.ReLU(),\n",
    "            nn.Conv2d(in_channels=hidden_units,\n",
    "                      out_channels=hidden_units,\n",
    "                      padding=1,\n",
    "                      stride=1,\n",
    "                      kernel_size=3),\n",
    "            nn.ReLU(),\n",
    "            nn.MaxPool2d(kernel_size=2)\n",
    "        )\n",
    "        \n",
    "        self.conv_block_2 = nn.Sequential(\n",
    "            nn.Conv2d(in_channels=hidden_units,\n",
    "                      out_channels=hidden_units,\n",
    "                      padding=1,\n",
    "                      stride=1,\n",
    "                      kernel_size=4),\n",
    "            nn.ReLU(),\n",
    "            nn.Conv2d(in_channels=hidden_units,\n",
    "                      out_channels=hidden_units,\n",
    "                      padding=1,\n",
    "                      stride=1,\n",
    "                      kernel_size=3),\n",
    "            nn.ReLU(),\n",
    "            nn.MaxPool2d(kernel_size=2)\n",
    "        )\n",
    "\n",
    "        self.classifier = nn.Sequential(\n",
    "            nn.Flatten(),\n",
    "            nn.Linear(in_features=hidden_units*6*6,\n",
    "                      out_features=output_shape),\n",
    "        )\n",
    "\n",
    "    def forward(self,x):\n",
    "        x = x.to(device)\n",
    "        x = self.conv_block_1(x)\n",
    "        # print(x.shape)\n",
    "        \n",
    "        x = self.conv_block_2(x)\n",
    "        # print(x.shape)\n",
    "        \n",
    "        x = self.classifier(x)\n",
    "        \n",
    "        return x\n",
    "        "
   ]
  },
  {
   "cell_type": "code",
   "execution_count": 193,
   "id": "20048344",
   "metadata": {},
   "outputs": [
    {
     "data": {
      "text/plain": [
       "torch.Size([1, 28, 28])"
      ]
     },
     "execution_count": 193,
     "metadata": {},
     "output_type": "execute_result"
    }
   ],
   "source": [
    "image.shape"
   ]
  },
  {
   "cell_type": "code",
   "execution_count": 204,
   "id": "923d47c5",
   "metadata": {},
   "outputs": [],
   "source": [
    "# img = train_data[0][0].unsqueeze(0)\n",
    "# model_2(img)\n",
    "# print(train_data[0][0].shape,train_data[0][0].unsqueeze(0).shape)\n"
   ]
  },
  {
   "cell_type": "code",
   "execution_count": 205,
   "id": "2fbca54f",
   "metadata": {},
   "outputs": [],
   "source": [
    "# dummy_image = torch.rand([10,1,64,64])\n",
    "# img,label  = train_data[0]\n",
    "# print(img.shape)\n",
    "\n",
    "# plt.imshow(img[0],cmap=\"gray\")"
   ]
  },
  {
   "cell_type": "code",
   "execution_count": null,
   "id": "5c9a134c",
   "metadata": {},
   "outputs": [
    {
     "data": {
      "text/plain": [
       "torch.Size([1, 10, 4, 4])"
      ]
     },
     "execution_count": 201,
     "metadata": {},
     "output_type": "execute_result"
    }
   ],
   "source": [
    "torch.manual_seed(42)\n",
    "\n",
    "\n",
    "conv_layer =nn.Conv2d(in_channels=1,\n",
    "                      out_channels=10,\n",
    "                      padding=10,\n",
    "                      stride=10,\n",
    "                      kernel_size=10)\n",
    "\n",
    "conv_output = conv_layer(img.unsqueeze(0))\n",
    "\n",
    "conv_output.shape"
   ]
  },
  {
   "cell_type": "code",
   "execution_count": 206,
   "id": "b26c6956",
   "metadata": {},
   "outputs": [],
   "source": [
    "from helper_functions import accuracy_fn\n",
    "torch.manual_seed(42)\n",
    "\n",
    "model_2 = FlowerModelCNNBase(input_shape=1,\n",
    "                             hidden_units=10,\n",
    "                             output_shape=len(class_names)).to(device)\n",
    "\n",
    "optimizer = torch.optim.SGD(params=model_2.parameters(),lr=0.1)\n",
    "loss_fn = nn.CrossEntropyLoss()"
   ]
  },
  {
   "cell_type": "code",
   "execution_count": 210,
   "id": "20914db6",
   "metadata": {},
   "outputs": [
    {
     "data": {
      "application/vnd.jupyter.widget-view+json": {
       "model_id": "d6b350baad2f47f3a3833497267f4b96",
       "version_major": 2,
       "version_minor": 0
      },
      "text/plain": [
       "  0%|          | 0/10 [00:00<?, ?it/s]"
      ]
     },
     "metadata": {},
     "output_type": "display_data"
    },
    {
     "name": "stdout",
     "output_type": "stream",
     "text": [
      "Epoch 1\n",
      "......\n",
      " Train Loss: 4.6267 || Train Accuracy 0.68%\n",
      " Test Loss: 0.5505 || Test Accuracy 0.55%\n",
      "Epoch 2\n",
      "......\n",
      " Train Loss: 4.6267 || Train Accuracy 0.39%\n",
      " Test Loss: 2.0078 || Test Accuracy 2.01%\n",
      "Epoch 3\n",
      "......\n",
      " Train Loss: 4.6267 || Train Accuracy 0.70%\n",
      " Test Loss: 0.6315 || Test Accuracy 0.63%\n",
      "Epoch 4\n",
      "......\n",
      " Train Loss: 4.6266 || Train Accuracy 0.88%\n",
      " Test Loss: 0.3886 || Test Accuracy 0.39%\n",
      "Epoch 5\n",
      "......\n",
      " Train Loss: 4.6265 || Train Accuracy 0.88%\n",
      " Test Loss: 0.5181 || Test Accuracy 0.52%\n",
      "Epoch 6\n",
      "......\n",
      " Train Loss: 4.6264 || Train Accuracy 0.68%\n",
      " Test Loss: 2.0887 || Test Accuracy 2.09%\n",
      "Epoch 7\n",
      "......\n",
      " Train Loss: 4.6263 || Train Accuracy 0.98%\n",
      " Test Loss: 1.5220 || Test Accuracy 1.52%\n",
      "Epoch 8\n",
      "......\n",
      " Train Loss: 4.6261 || Train Accuracy 0.59%\n",
      " Test Loss: 1.1010 || Test Accuracy 1.10%\n",
      "Epoch 9\n",
      "......\n",
      " Train Loss: 4.6259 || Train Accuracy 0.68%\n",
      " Test Loss: 1.5382 || Test Accuracy 1.54%\n",
      "Epoch 10\n",
      "......\n",
      " Train Loss: 4.6256 || Train Accuracy 0.49%\n",
      " Test Loss: 1.1658 || Test Accuracy 1.17%\n",
      "Train Time on cuda:0 is 137.2193\n"
     ]
    }
   ],
   "source": [
    "epochs = 10\n",
    "\n",
    "\n",
    "\n",
    "cnn_start_time = timer()\n",
    "for epoch in tqdm(range(epochs)):\n",
    "    print(f\"Epoch {epoch+1}\\n......\")\n",
    "    train_step(model_2,optimizer,loss_fn,train_dataloader,device)\n",
    "    test_step(model_2,loss_fn,test_dataloader,device)\n",
    "    \n",
    "\n",
    "cnn_end_time = timer()\n",
    "\n",
    "\n",
    "exec_time = execution_time(cnn_start_time,cnn_end_time,str(next(model_2.parameters()).device)) "
   ]
  },
  {
   "cell_type": "code",
   "execution_count": 213,
   "id": "053d538b",
   "metadata": {},
   "outputs": [
    {
     "name": "stdout",
     "output_type": "stream",
     "text": [
      "Mon Apr 28 23:21:21 2025       \n",
      "+-----------------------------------------------------------------------------------------+\n",
      "| NVIDIA-SMI 550.120                Driver Version: 550.120        CUDA Version: 12.4     |\n",
      "|-----------------------------------------+------------------------+----------------------+\n",
      "| GPU  Name                 Persistence-M | Bus-Id          Disp.A | Volatile Uncorr. ECC |\n",
      "| Fan  Temp   Perf          Pwr:Usage/Cap |           Memory-Usage | GPU-Util  Compute M. |\n",
      "|                                         |                        |               MIG M. |\n",
      "|=========================================+========================+======================|\n",
      "|   0  NVIDIA GeForce RTX 4060 ...    Off |   00000000:01:00.0 Off |                  N/A |\n",
      "| N/A   42C    P3              9W /   80W |     770MiB /   8188MiB |      2%      Default |\n",
      "|                                         |                        |                  N/A |\n",
      "+-----------------------------------------+------------------------+----------------------+\n",
      "                                                                                         \n",
      "+-----------------------------------------------------------------------------------------+\n",
      "| Processes:                                                                              |\n",
      "|  GPU   GI   CI        PID   Type   Process name                              GPU Memory |\n",
      "|        ID   ID                                                               Usage      |\n",
      "|=========================================================================================|\n",
      "|    0   N/A  N/A      1541      G   /usr/lib/xorg/Xorg                            184MiB |\n",
      "|    0   N/A  N/A      2007      G   /usr/bin/gnome-shell                           49MiB |\n",
      "|    0   N/A  N/A      4705      G   /usr/bin/gjs                                   14MiB |\n",
      "|    0   N/A  N/A      5721      G   /opt/brave.com/brave/brave                      2MiB |\n",
      "|    0   N/A  N/A      5773      G   ...dce53a9c8f623dd28fff2540a8d57a08bc3        194MiB |\n",
      "|    0   N/A  N/A      6839      G   ...erProcess --variations-seed-version        129MiB |\n",
      "|    0   N/A  N/A    404715      C   /bin/python                                   178MiB |\n",
      "+-----------------------------------------------------------------------------------------+\n"
     ]
    }
   ],
   "source": [
    "!nvidia-smi"
   ]
  },
  {
   "cell_type": "code",
   "execution_count": 212,
   "id": "8bc3f67d",
   "metadata": {},
   "outputs": [
    {
     "data": {
      "text/plain": [
       "({'model_name': 'FlowerModelBase',\n",
       "  'model_loss': 4.637142181396484,\n",
       "  'model_acc': 0.8095854922279793},\n",
       " {'model_name': 'FlowerModelSmall',\n",
       "  'model_loss': 4.625186443328857,\n",
       "  'model_acc': 0.8905440414507773},\n",
       " {'model_name': 'FlowerModelCNNBase',\n",
       "  'model_loss': 4.623857498168945,\n",
       "  'model_acc': 1.16580310880829})"
      ]
     },
     "execution_count": 212,
     "metadata": {},
     "output_type": "execute_result"
    }
   ],
   "source": [
    "model_2_results = eval_model(model_2,test_dataloader,loss_fn,accuracy_fn,device)\n",
    "\n",
    "model_0_results,model_1_results,model_2_results"
   ]
  },
  {
   "cell_type": "code",
   "execution_count": 219,
   "id": "f1e0c3e1",
   "metadata": {},
   "outputs": [
    {
     "data": {
      "text/plain": [
       "Text(0, 0.5, 'model')"
      ]
     },
     "execution_count": 219,
     "metadata": {},
     "output_type": "execute_result"
    },
    {
     "data": {
      "image/png": "[encoded data removed]",
      "text/plain": [
       "<Figure size 640x480 with 1 Axes>"
      ]
     },
     "metadata": {},
     "output_type": "display_data"
    }
   ],
   "source": [
    "overall_results = pd.DataFrame(\n",
    "    [model_0_results,model_1_results,model_2_results]\n",
    ")\n",
    "\n",
    "overall_results.set_index(\"model_name\")[\"model_acc\"].plot(kind=\"barh\")\n",
    "plt.xlabel(\"accuracy\")\n",
    "plt.ylabel(\"model\")"
   ]
  },
  {
   "cell_type": "code",
   "execution_count": null,
   "id": "821891f3",
   "metadata": {},
   "outputs": [],
   "source": []
  }
 ],
 "metadata": {
  "kernelspec": {
   "display_name": "Python 3",
   "language": "python",
   "name": "python3"
  },
  "language_info": {
   "codemirror_mode": {
    "name": "ipython",
    "version": 3
   },
   "file_extension": ".py",
   "mimetype": "text/x-python",
   "name": "python",
   "nbconvert_exporter": "python",
   "pygments_lexer": "ipython3",
   "version": "3.10.12"
  }
 },
 "nbformat": 4,
 "nbformat_minor": 5
}
