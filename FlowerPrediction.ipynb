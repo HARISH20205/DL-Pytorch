{
 "cells": [
  {
   "cell_type": "code",
   "execution_count": 2,
   "id": "60b14ba5",
   "metadata": {},
   "outputs": [
    {
     "name": "stdout",
     "output_type": "stream",
     "text": [
      "2.6.0+cu124 True\n"
     ]
    }
   ],
   "source": [
    "import torch\n",
    "from torch import nn\n",
    "\n",
    "import torchvision\n",
    "from torchvision import datasets, transforms\n",
    "from torch.utils.data import DataLoader\n",
    "\n",
    "import numpy as np\n",
    "import matplotlib.pyplot as plt\n",
    "import matplotlib.image as mpimg\n",
    "import pandas as pd\n",
    "\n",
    "print(torch.__version__,torch.cuda.is_available())"
   ]
  },
  {
   "cell_type": "code",
   "execution_count": 3,
   "id": "7104822c",
   "metadata": {},
   "outputs": [
    {
     "data": {
      "text/plain": [
       "(Dataset FashionMNIST\n",
       "     Number of datapoints: 60000\n",
       "     Root location: fashion\n",
       "     Split: Train\n",
       "     StandardTransform\n",
       " Transform: Compose(\n",
       "                Resize(size=(28, 28), interpolation=bilinear, max_size=None, antialias=True)\n",
       "                Grayscale(num_output_channels=1)\n",
       "                ToTensor()\n",
       "            ),\n",
       " Dataset FashionMNIST\n",
       "     Number of datapoints: 10000\n",
       "     Root location: fashion\n",
       "     Split: Test\n",
       "     StandardTransform\n",
       " Transform: Compose(\n",
       "                Resize(size=(28, 28), interpolation=bilinear, max_size=None, antialias=True)\n",
       "                Grayscale(num_output_channels=1)\n",
       "                ToTensor()\n",
       "            ))"
      ]
     },
     "execution_count": 3,
     "metadata": {},
     "output_type": "execute_result"
    }
   ],
   "source": [
    "transform = transforms.Compose([\n",
    "    transforms.Resize((28,28)),  # Resize all images to 28x28\n",
    "    transforms.Grayscale(num_output_channels=1),\n",
    "    transforms.ToTensor()\n",
    "])\n",
    "\n",
    "\n",
    "train_data = datasets.FashionMNIST(root=\"fashion\",\n",
    "                              train=True,\n",
    "                              download=True,\n",
    "                              transform=transform,\n",
    "                              target_transform=None)\n",
    "\n",
    "\n",
    "test_data = datasets.FashionMNIST(root=\"fashion\",\n",
    "                              train=False,\n",
    "                              download=True,\n",
    "                              transform=transform,\n",
    "                              target_transform=None)\n",
    "train_data,test_data"
   ]
  },
  {
   "cell_type": "code",
   "execution_count": 4,
   "id": "1e2eba9e",
   "metadata": {},
   "outputs": [
    {
     "data": {
      "text/plain": [
       "['T-shirt/top',\n",
       " 'Trouser',\n",
       " 'Pullover',\n",
       " 'Dress',\n",
       " 'Coat',\n",
       " 'Sandal',\n",
       " 'Shirt',\n",
       " 'Sneaker',\n",
       " 'Bag',\n",
       " 'Ankle boot']"
      ]
     },
     "execution_count": 4,
     "metadata": {},
     "output_type": "execute_result"
    }
   ],
   "source": [
    "class_names = train_data.classes\n",
    "class_names"
   ]
  },
  {
   "cell_type": "code",
   "execution_count": 5,
   "id": "8cfb307e",
   "metadata": {},
   "outputs": [
    {
     "name": "stdout",
     "output_type": "stream",
     "text": [
      "torch.Size([1, 28, 28])\n"
     ]
    },
    {
     "data": {
      "image/png": "[encoded data removed]",
      "text/plain": [
       "<Figure size 640x480 with 1 Axes>"
      ]
     },
     "metadata": {},
     "output_type": "display_data"
    }
   ],
   "source": [
    "image,label = train_data[0]\n",
    "\n",
    "# plt.figure(figsize=(15,5))\n",
    "# plt.subplot(1,3,1)\n",
    "# plt.imshow(image.squeeze()[0], cmap='gray')\n",
    "# plt.title('Red Channel')\n",
    "# plt.subplot(1,3,2)\n",
    "# plt.imshow(image.squeeze()[1], cmap='gray')\n",
    "# plt.title('Green Channel')\n",
    "# plt.subplot(1,3,3)\n",
    "# plt.imshow(image.squeeze()[2], cmap='gray')\n",
    "# plt.title('Blue Channel')\n",
    "plt.axis(False)\n",
    "plt.title(class_names[0])\n",
    "plt.imshow(image[0],cmap=\"gray\")\n",
    "print(image.shape)"
   ]
  },
  {
   "cell_type": "code",
   "execution_count": 6,
   "id": "889fcd8b",
   "metadata": {},
   "outputs": [
    {
     "data": {
      "text/plain": [
       "(1875, 313)"
      ]
     },
     "execution_count": 6,
     "metadata": {},
     "output_type": "execute_result"
    }
   ],
   "source": [
    "BATCH_SIZE = 32\n",
    "\n",
    "train_dataloader = DataLoader(train_data,\n",
    "                              batch_size=BATCH_SIZE,\n",
    "                              shuffle=True)\n",
    "\n",
    "\n",
    "test_dataloader = DataLoader(test_data,\n",
    "                              batch_size=BATCH_SIZE,\n",
    "                              shuffle=False)\n",
    "\n",
    "\n",
    "len(train_dataloader),len(test_dataloader)"
   ]
  },
  {
   "cell_type": "code",
   "execution_count": 7,
   "id": "ee22f2db",
   "metadata": {},
   "outputs": [
    {
     "data": {
      "text/plain": [
       "(torch.Size([32, 1, 28, 28]), torch.Size([32]))"
      ]
     },
     "execution_count": 7,
     "metadata": {},
     "output_type": "execute_result"
    }
   ],
   "source": [
    "train_features_batch,train_labels_batch = next(iter(test_dataloader))\n",
    "train_features_batch.shape,train_labels_batch.shape"
   ]
  },
  {
   "cell_type": "code",
   "execution_count": 8,
   "id": "26162b72",
   "metadata": {},
   "outputs": [
    {
     "data": {
      "text/plain": [
       "(-0.5, 27.5, 27.5, -0.5)"
      ]
     },
     "execution_count": 8,
     "metadata": {},
     "output_type": "execute_result"
    },
    {
     "data": {
      "image/png": "[encoded data removed]",
      "text/plain": [
       "<Figure size 640x480 with 1 Axes>"
      ]
     },
     "metadata": {},
     "output_type": "display_data"
    }
   ],
   "source": [
    "torch.manual_seed(42)\n",
    "train_idx = torch.randint(0,len(train_features_batch),size=[1]).item()\n",
    "img,label = train_features_batch[train_idx], train_labels_batch[train_idx]\n",
    "plt.imshow(img.squeeze(),cmap=\"gray\")\n",
    "plt.title(class_names[label])\n",
    "plt.axis(False)"
   ]
  },
  {
   "cell_type": "code",
   "execution_count": 9,
   "id": "efb33209",
   "metadata": {},
   "outputs": [
    {
     "name": "stdout",
     "output_type": "stream",
     "text": [
      "Before Flattening torch.Size([1, 28, 28]) \n",
      "After Flattening torch.Size([1, 784])\n"
     ]
    }
   ],
   "source": [
    "flatten_model = nn.Flatten()\n",
    "\n",
    "x = train_features_batch[0]\n",
    "\n",
    "output = flatten_model(x)\n",
    "\n",
    "print(f\"Before Flattening {x.shape} \")\n",
    "print(f\"After Flattening {output.shape}\")"
   ]
  },
  {
   "cell_type": "code",
   "execution_count": 10,
   "id": "96fca930",
   "metadata": {},
   "outputs": [
    {
     "data": {
      "text/plain": [
       "'cuda'"
      ]
     },
     "execution_count": 10,
     "metadata": {},
     "output_type": "execute_result"
    }
   ],
   "source": [
    "device = \"cuda\" if torch.cuda.is_available() else \"cpu\"\n",
    "device"
   ]
  },
  {
   "cell_type": "code",
   "execution_count": 11,
   "id": "c19e77c7",
   "metadata": {},
   "outputs": [],
   "source": [
    "class FashionModelBase(nn.Module):\n",
    "    \n",
    "    def __init__(self, input_shape,hidden_units,output_shape):\n",
    "        super().__init__()\n",
    "        \n",
    "        self.layers = nn.Sequential(\n",
    "            nn.Flatten(),\n",
    "            nn.Linear(in_features=input_shape,out_features=hidden_units),\n",
    "            nn.Linear(in_features=hidden_units,out_features=output_shape)\n",
    "        )\n",
    "    \n",
    "    def forward(self,x):\n",
    "        return self.layers(x)\n",
    "    "
   ]
  },
  {
   "cell_type": "code",
   "execution_count": 12,
   "id": "807f881d",
   "metadata": {},
   "outputs": [
    {
     "data": {
      "text/plain": [
       "FashionModelBase(\n",
       "  (layers): Sequential(\n",
       "    (0): Flatten(start_dim=1, end_dim=-1)\n",
       "    (1): Linear(in_features=784, out_features=10, bias=True)\n",
       "    (2): Linear(in_features=10, out_features=10, bias=True)\n",
       "  )\n",
       ")"
      ]
     },
     "execution_count": 12,
     "metadata": {},
     "output_type": "execute_result"
    }
   ],
   "source": [
    "model_0 = FashionModelBase(input_shape=28*28,hidden_units=10,output_shape=len(class_names)).to(device)\n",
    "model_0"
   ]
  },
  {
   "cell_type": "code",
   "execution_count": 13,
   "id": "f64c628f",
   "metadata": {},
   "outputs": [
    {
     "name": "stdout",
     "output_type": "stream",
     "text": [
      "File Already Exists, Skipping Download....\n"
     ]
    }
   ],
   "source": [
    "import requests\n",
    "from pathlib import Path\n",
    "github_file_link = \"https://raw.githubusercontent.com/mrdbourke/pytorch-deep-learning/blob/main/helper_functions.py\"\n",
    "if Path(\"helper_functions.py\").is_file():\n",
    "    print(\"File Already Exists, Skipping Download....\")\n",
    "else:\n",
    "    response = requests.get(github_file_link)\n",
    "\n",
    "    if response.status_code==200:\n",
    "        with open(\"helper_functions.py\",\"wb\") as f:\n",
    "            f.write(response.content)\n",
    "    else:\n",
    "        print(\"File Download Error\")"
   ]
  },
  {
   "cell_type": "code",
   "execution_count": 14,
   "id": "5ef1b0ba",
   "metadata": {},
   "outputs": [
    {
     "data": {
      "text/plain": [
       "<function helper_functions.accuracy_fn(y_true, y_pred)>"
      ]
     },
     "execution_count": 14,
     "metadata": {},
     "output_type": "execute_result"
    }
   ],
   "source": [
    "from helper_functions import accuracy_fn\n",
    "\n",
    "accuracy_fn"
   ]
  },
  {
   "cell_type": "code",
   "execution_count": 15,
   "id": "e7e536ff",
   "metadata": {},
   "outputs": [
    {
     "name": "stdout",
     "output_type": "stream",
     "text": [
      "Train Time on cpu is 0.0000\n"
     ]
    },
    {
     "data": {
      "text/plain": [
       "9.798997780308127e-06"
      ]
     },
     "execution_count": 15,
     "metadata": {},
     "output_type": "execute_result"
    }
   ],
   "source": [
    "from timeit import default_timer as timer\n",
    "\n",
    "\n",
    "def execution_time(start_time,end_time, device):\n",
    "    total_time = end_time-start_time\n",
    "    print(f\"Train Time on {device} is {total_time:.4f}\")\n",
    "    return total_time\n",
    "\n",
    "start_time = timer()\n",
    "\n",
    "end_time = timer()\n",
    "\n",
    "execution_time(start_time,end_time,\"cpu\")"
   ]
  },
  {
   "cell_type": "code",
   "execution_count": 16,
   "id": "5171b408",
   "metadata": {},
   "outputs": [],
   "source": [
    "loss_fn = nn.CrossEntropyLoss()\n",
    "optimizer = torch.optim.SGD(params=model_0.parameters(),lr=0.01)\n"
   ]
  },
  {
   "cell_type": "code",
   "execution_count": 17,
   "id": "4782dbe1",
   "metadata": {},
   "outputs": [
    {
     "data": {
      "application/vnd.jupyter.widget-view+json": {
       "model_id": "270d914dfa7b4a958ccf8f48ef281779",
       "version_major": 2,
       "version_minor": 0
      },
      "text/plain": [
       "  0%|          | 0/1 [00:00<?, ?it/s]"
      ]
     },
     "metadata": {},
     "output_type": "display_data"
    },
    {
     "name": "stdout",
     "output_type": "stream",
     "text": [
      "Epoch 0\n",
      "\n",
      "Train Epoch: 0 [0/60000 (0%)]\tLoss: 2.348522\n",
      "Train Epoch: 0 [640/60000 (1%)]\tLoss: 2.232180\n",
      "Train Epoch: 0 [1280/60000 (2%)]\tLoss: 2.190112\n",
      "Train Epoch: 0 [1920/60000 (3%)]\tLoss: 2.008660\n",
      "Train Epoch: 0 [2560/60000 (4%)]\tLoss: 1.965384\n",
      "Train Epoch: 0 [3200/60000 (5%)]\tLoss: 1.870293\n",
      "Train Epoch: 0 [3840/60000 (6%)]\tLoss: 1.842360\n",
      "Train Epoch: 0 [4480/60000 (7%)]\tLoss: 1.808027\n",
      "Train Epoch: 0 [5120/60000 (9%)]\tLoss: 1.576584\n",
      "Train Epoch: 0 [5760/60000 (10%)]\tLoss: 1.387807\n",
      "Train Epoch: 0 [6400/60000 (11%)]\tLoss: 1.440331\n",
      "Train Epoch: 0 [7040/60000 (12%)]\tLoss: 1.410397\n",
      "Train Epoch: 0 [7680/60000 (13%)]\tLoss: 1.241638\n",
      "Train Epoch: 0 [8320/60000 (14%)]\tLoss: 1.308148\n",
      "Train Epoch: 0 [8960/60000 (15%)]\tLoss: 1.100347\n",
      "Train Epoch: 0 [9600/60000 (16%)]\tLoss: 1.206506\n",
      "Train Epoch: 0 [10240/60000 (17%)]\tLoss: 1.081582\n",
      "Train Epoch: 0 [10880/60000 (18%)]\tLoss: 1.233401\n",
      "Train Epoch: 0 [11520/60000 (19%)]\tLoss: 1.062247\n",
      "Train Epoch: 0 [12160/60000 (20%)]\tLoss: 1.077538\n",
      "Train Epoch: 0 [12800/60000 (21%)]\tLoss: 0.841667\n",
      "Train Epoch: 0 [13440/60000 (22%)]\tLoss: 0.939803\n",
      "Train Epoch: 0 [14080/60000 (23%)]\tLoss: 0.876274\n",
      "Train Epoch: 0 [14720/60000 (25%)]\tLoss: 0.789189\n",
      "Train Epoch: 0 [15360/60000 (26%)]\tLoss: 0.930546\n",
      "Train Epoch: 0 [16000/60000 (27%)]\tLoss: 1.013271\n",
      "Train Epoch: 0 [16640/60000 (28%)]\tLoss: 1.174758\n",
      "Train Epoch: 0 [17280/60000 (29%)]\tLoss: 0.829993\n",
      "Train Epoch: 0 [17920/60000 (30%)]\tLoss: 0.857535\n",
      "Train Epoch: 0 [18560/60000 (31%)]\tLoss: 0.669223\n",
      "Train Epoch: 0 [19200/60000 (32%)]\tLoss: 0.782277\n",
      "Train Epoch: 0 [19840/60000 (33%)]\tLoss: 0.784080\n",
      "Train Epoch: 0 [20480/60000 (34%)]\tLoss: 0.838262\n",
      "Train Epoch: 0 [21120/60000 (35%)]\tLoss: 0.917602\n",
      "Train Epoch: 0 [21760/60000 (36%)]\tLoss: 0.760091\n",
      "Train Epoch: 0 [22400/60000 (37%)]\tLoss: 0.794041\n",
      "Train Epoch: 0 [23040/60000 (38%)]\tLoss: 0.836907\n",
      "Train Epoch: 0 [23680/60000 (39%)]\tLoss: 0.871032\n",
      "Train Epoch: 0 [24320/60000 (41%)]\tLoss: 0.839589\n",
      "Train Epoch: 0 [24960/60000 (42%)]\tLoss: 0.819306\n",
      "Train Epoch: 0 [25600/60000 (43%)]\tLoss: 0.892838\n",
      "Train Epoch: 0 [26240/60000 (44%)]\tLoss: 0.743676\n",
      "Train Epoch: 0 [26880/60000 (45%)]\tLoss: 0.687362\n",
      "Train Epoch: 0 [27520/60000 (46%)]\tLoss: 0.686631\n",
      "Train Epoch: 0 [28160/60000 (47%)]\tLoss: 0.616573\n",
      "Train Epoch: 0 [28800/60000 (48%)]\tLoss: 0.658015\n",
      "Train Epoch: 0 [29440/60000 (49%)]\tLoss: 0.668847\n",
      "Train Epoch: 0 [30080/60000 (50%)]\tLoss: 0.697362\n",
      "Train Epoch: 0 [30720/60000 (51%)]\tLoss: 0.600381\n",
      "Train Epoch: 0 [31360/60000 (52%)]\tLoss: 0.724612\n",
      "Train Epoch: 0 [32000/60000 (53%)]\tLoss: 0.587164\n",
      "Train Epoch: 0 [32640/60000 (54%)]\tLoss: 0.520468\n",
      "Train Epoch: 0 [33280/60000 (55%)]\tLoss: 0.521356\n",
      "Train Epoch: 0 [33920/60000 (57%)]\tLoss: 0.715443\n",
      "Train Epoch: 0 [34560/60000 (58%)]\tLoss: 0.530859\n",
      "Train Epoch: 0 [35200/60000 (59%)]\tLoss: 0.752278\n",
      "Train Epoch: 0 [35840/60000 (60%)]\tLoss: 0.718726\n",
      "Train Epoch: 0 [36480/60000 (61%)]\tLoss: 0.762171\n",
      "Train Epoch: 0 [37120/60000 (62%)]\tLoss: 0.741002\n",
      "Train Epoch: 0 [37760/60000 (63%)]\tLoss: 0.603137\n",
      "Train Epoch: 0 [38400/60000 (64%)]\tLoss: 0.549541\n",
      "Train Epoch: 0 [39040/60000 (65%)]\tLoss: 0.786860\n",
      "Train Epoch: 0 [39680/60000 (66%)]\tLoss: 0.642757\n",
      "Train Epoch: 0 [40320/60000 (67%)]\tLoss: 0.866777\n",
      "Train Epoch: 0 [40960/60000 (68%)]\tLoss: 0.603677\n",
      "Train Epoch: 0 [41600/60000 (69%)]\tLoss: 0.543625\n",
      "Train Epoch: 0 [42240/60000 (70%)]\tLoss: 0.844249\n",
      "Train Epoch: 0 [42880/60000 (71%)]\tLoss: 0.590609\n",
      "Train Epoch: 0 [43520/60000 (73%)]\tLoss: 0.793352\n",
      "Train Epoch: 0 [44160/60000 (74%)]\tLoss: 0.429155\n",
      "Train Epoch: 0 [44800/60000 (75%)]\tLoss: 0.857478\n",
      "Train Epoch: 0 [45440/60000 (76%)]\tLoss: 0.619413\n",
      "Train Epoch: 0 [46080/60000 (77%)]\tLoss: 0.707269\n",
      "Train Epoch: 0 [46720/60000 (78%)]\tLoss: 0.802297\n",
      "Train Epoch: 0 [47360/60000 (79%)]\tLoss: 0.615571\n",
      "Train Epoch: 0 [48000/60000 (80%)]\tLoss: 0.690131\n",
      "Train Epoch: 0 [48640/60000 (81%)]\tLoss: 0.627809\n",
      "Train Epoch: 0 [49280/60000 (82%)]\tLoss: 0.703282\n",
      "Train Epoch: 0 [49920/60000 (83%)]\tLoss: 0.860090\n",
      "Train Epoch: 0 [50560/60000 (84%)]\tLoss: 0.559243\n",
      "Train Epoch: 0 [51200/60000 (85%)]\tLoss: 0.541145\n",
      "Train Epoch: 0 [51840/60000 (86%)]\tLoss: 0.445519\n",
      "Train Epoch: 0 [52480/60000 (87%)]\tLoss: 0.475283\n",
      "Train Epoch: 0 [53120/60000 (89%)]\tLoss: 0.686044\n",
      "Train Epoch: 0 [53760/60000 (90%)]\tLoss: 0.594876\n",
      "Train Epoch: 0 [54400/60000 (91%)]\tLoss: 0.711759\n",
      "Train Epoch: 0 [55040/60000 (92%)]\tLoss: 0.355863\n",
      "Train Epoch: 0 [55680/60000 (93%)]\tLoss: 0.424487\n",
      "Train Epoch: 0 [56320/60000 (94%)]\tLoss: 0.330968\n",
      "Train Epoch: 0 [56960/60000 (95%)]\tLoss: 0.428689\n",
      "Train Epoch: 0 [57600/60000 (96%)]\tLoss: 0.641371\n",
      "Train Epoch: 0 [58240/60000 (97%)]\tLoss: 0.460624\n",
      "Train Epoch: 0 [58880/60000 (98%)]\tLoss: 0.719680\n",
      "Train Epoch: 0 [59520/60000 (99%)]\tLoss: 0.667606\n",
      " Train Loss: 0.9144 || Test Loss 0.0012\n",
      "Train Time on cuda:0 is 5.1395\n"
     ]
    }
   ],
   "source": [
    "from tqdm.auto import tqdm\n",
    "\n",
    "torch.manual_seed(42)\n",
    "\n",
    "train_time_on_cpu_start = timer()\n",
    "\n",
    "\n",
    "epochs =1\n",
    "\n",
    "for epoch in tqdm(range(epochs)):\n",
    "    print(f\"Epoch {epoch}\\n\")\n",
    "    \n",
    "    train_loss=0\n",
    "    for batch,(X,y) in enumerate(train_dataloader):\n",
    "        model_0.train()\n",
    "        X,y = X.to(device),y.to(device)\n",
    "        y_pred = model_0(X)\n",
    "        \n",
    "        loss = loss_fn(y_pred,y)\n",
    "        \n",
    "        train_loss +=loss\n",
    "        \n",
    "        optimizer.zero_grad()\n",
    "        \n",
    "        loss.backward()\n",
    "        \n",
    "        optimizer.step()\n",
    "        \n",
    "        \n",
    "        \n",
    "        n = len(train_dataloader.dataset)\n",
    "        if batch%20 == 0:\n",
    "            print(f'Train Epoch: {epoch} [{batch * len(X)}/{n} '\n",
    "                  f'({100. * batch / len(train_dataloader):.0f}%)]\\tLoss: {loss.item():.6f}')\n",
    "    \n",
    "    train_loss /= len(train_dataloader)\n",
    "    \n",
    "    \n",
    "    test_loss,test_acc = 0,0\n",
    "    \n",
    "    model_0.eval()\n",
    "    \n",
    "    with torch.inference_mode():\n",
    "        \n",
    "        \n",
    "        for X_test,y_test in test_dataloader:\n",
    "            X_test,y_test = X_test.to(device),y_test.to(device)\n",
    "            test_pred = model_0(X_test)\n",
    "            \n",
    "            test_loss+=loss_fn(test_pred,y_test)\n",
    "            \n",
    "            test_acc += accuracy_fn(y_test,test_pred.argmax(dim=1))\n",
    "            \n",
    "            test_loss/=len(test_dataloader)\n",
    "            \n",
    "            test_acc/=len(test_dataloader)\n",
    "            \n",
    "\n",
    "    print(f\" Train Loss: {train_loss:.4f} || Test Loss {test_loss:.4f}\")\n",
    "    \n",
    "\n",
    "train_time_on_cpu_end = timer()\n",
    "\n",
    "\n",
    "exec_time = execution_time(train_time_on_cpu_start,train_time_on_cpu_end,str(next(model_0.parameters()).device))\n",
    "\n",
    "\n"
   ]
  },
  {
   "cell_type": "code",
   "execution_count": 18,
   "id": "67f97ea1",
   "metadata": {},
   "outputs": [
    {
     "data": {
      "text/plain": [
       "{'model_name': 'FashionModelBase',\n",
       " 'model_loss': 0.6349838376045227,\n",
       " 'model_acc': 78.43450479233226}"
      ]
     },
     "execution_count": 18,
     "metadata": {},
     "output_type": "execute_result"
    }
   ],
   "source": [
    "from helper_functions import accuracy_fn\n",
    "\n",
    "acc_fn = accuracy_fn\n",
    "torch.manual_seed(42)\n",
    "def eval_model(model: torch.nn.Module, \n",
    "               data_loader: torch.utils.data.DataLoader, \n",
    "               loss_fn: torch.nn.Module, \n",
    "               accuracy_fn,device):\n",
    "    loss, acc = 0, 0\n",
    "    model.eval()\n",
    "    with torch.inference_mode():\n",
    "        for X, y in data_loader:\n",
    "            \n",
    "            X,y =X.to(device),y.to(device)\n",
    "            y_pred = model(X)\n",
    "            \n",
    "            \n",
    "            loss += loss_fn(y_pred, y)\n",
    "            acc += accuracy_fn(y_true=y, \n",
    "                                y_pred=y_pred.argmax(dim=1)) \n",
    "        \n",
    "        \n",
    "        loss /= len(data_loader)\n",
    "        acc /= len(data_loader)\n",
    "        \n",
    "    return {\"model_name\": model.__class__.__name__, \n",
    "            \"model_loss\": loss.item(),\n",
    "            \"model_acc\": acc}\n",
    "\n",
    "# Calculate model 0 results on test dataset\n",
    "model_0_results = eval_model(model=model_0, data_loader=test_dataloader,\n",
    "    loss_fn=loss_fn,accuracy_fn=acc_fn,device=device)\n",
    "model_0_results"
   ]
  },
  {
   "cell_type": "code",
   "execution_count": 19,
   "id": "65ef41ed",
   "metadata": {},
   "outputs": [],
   "source": [
    "class FashionModelSmall(nn.Module):\n",
    "    \n",
    "    def __init__(self, input_shape,hidden_units,output_shape):\n",
    "        super().__init__()\n",
    "        \n",
    "        self.layers = nn.Sequential(\n",
    "            nn.Flatten(),\n",
    "            nn.Linear(in_features=input_shape,out_features=hidden_units),\n",
    "            nn.ReLU(),\n",
    "            nn.Linear(in_features=hidden_units,out_features=output_shape),\n",
    "            nn.Sigmoid()\n",
    "        )\n",
    "    \n",
    "    def forward(self,x):\n",
    "        return self.layers(x)\n",
    "    \n",
    "    "
   ]
  },
  {
   "cell_type": "code",
   "execution_count": 20,
   "id": "add954e2",
   "metadata": {},
   "outputs": [],
   "source": [
    "from tqdm.auto import tqdm\n",
    "\n",
    "\n",
    "torch.manual_seed(42)\n",
    "def train_step(model,optimizer,loss_fn,train_dataloader,device):\n",
    "\n",
    "    train_loss,train_acc=0,0\n",
    "    for batch,(X,y) in enumerate(train_dataloader):\n",
    "        X,y = X.to(device),y.to(device)\n",
    "        model.train()\n",
    "        \n",
    "        y_pred = model(X)\n",
    "        \n",
    "        loss = loss_fn(y_pred,y)\n",
    "        \n",
    "        train_loss +=loss\n",
    "        \n",
    "        train_acc += accuracy_fn(y,y_pred.argmax(dim=1))\n",
    "        \n",
    "        optimizer.zero_grad()\n",
    "        \n",
    "        loss.backward()\n",
    "        \n",
    "        optimizer.step()\n",
    "        \n",
    "        \n",
    "    train_loss /= len(train_dataloader)\n",
    "    train_acc /= len(train_dataloader)\n",
    "\n",
    "    print(f\" Train Loss: {train_loss:.4f} || Train Accuracy {train_acc:.2f}%\")\n",
    "    return train_loss,train_acc\n",
    "\n",
    "\n",
    "def test_step(model,loss_fn,test_dataloader,device):\n",
    "    test_loss,test_acc = 0.0,0\n",
    "    \n",
    "    model.eval()\n",
    "    \n",
    "    with torch.inference_mode():\n",
    "        for X_test,y_test in test_dataloader:\n",
    "            X_test,y_test = X_test.to(device),y_test.to(device)\n",
    "            test_pred = model(X_test)\n",
    "            \n",
    "            test_loss+=loss_fn(test_pred,y_test)\n",
    "            \n",
    "            test_acc += accuracy_fn(y_test,test_pred.argmax(dim=1))\n",
    "            \n",
    "        test_loss/=len(test_dataloader)\n",
    "        \n",
    "        test_acc/=len(test_dataloader)\n",
    "\n",
    "    print(f\" Test Loss: {test_acc:.4f} || Test Accuracy {test_acc:.2f}%\")\n"
   ]
  },
  {
   "cell_type": "code",
   "execution_count": 21,
   "id": "9da86348",
   "metadata": {},
   "outputs": [
    {
     "data": {
      "application/vnd.jupyter.widget-view+json": {
       "model_id": "792352b8fcb144f0ae0b25431c97a413",
       "version_major": 2,
       "version_minor": 0
      },
      "text/plain": [
       "  0%|          | 0/3 [00:00<?, ?it/s]"
      ]
     },
     "metadata": {},
     "output_type": "display_data"
    },
    {
     "name": "stdout",
     "output_type": "stream",
     "text": [
      "Epoch 0\n",
      "\n",
      " Train Loss: 2.1298 || Train Accuracy 22.85%\n",
      " Test Loss: 37.8594 || Test Accuracy 37.86%\n",
      "Epoch 1\n",
      "\n",
      " Train Loss: 1.8544 || Train Accuracy 48.03%\n",
      " Test Loss: 49.4509 || Test Accuracy 49.45%\n",
      "Epoch 2\n",
      "\n",
      " Train Loss: 1.7668 || Train Accuracy 51.61%\n",
      " Test Loss: 51.1881 || Test Accuracy 51.19%\n",
      "Train Time on cuda is 15.6928\n"
     ]
    },
    {
     "data": {
      "text/plain": [
       "15.692788592998113"
      ]
     },
     "execution_count": 21,
     "metadata": {},
     "output_type": "execute_result"
    }
   ],
   "source": [
    "from timeit import default_timer as timer\n",
    "\n",
    "\n",
    "\n",
    "model_1 = FashionModelSmall(input_shape=784,hidden_units=10,output_shape=len(class_names)).to(device)\n",
    "loss_fn = nn.CrossEntropyLoss()\n",
    "optimizer = torch.optim.SGD(model_1.parameters(),lr=0.01)\n",
    "\n",
    "\n",
    "train_time_on_gpu_start = timer()\n",
    "epochs = 3\n",
    "for epoch in tqdm(range(epochs)):\n",
    "    print(f\"Epoch {epoch}\\n\")\n",
    "    \n",
    "    train_step(model_1,optimizer,loss_fn,train_dataloader,device)\n",
    "    test_step(model_1,loss_fn,test_dataloader,device)    \n",
    "    \n",
    "    \n",
    "train_time_on_gpu_end = timer()\n",
    "\n",
    "\n",
    "total_train_time_model_1 = execution_time(train_time_on_gpu_start,train_time_on_gpu_end,device)\n",
    "total_train_time_model_1"
   ]
  },
  {
   "cell_type": "code",
   "execution_count": 22,
   "id": "f5598f54",
   "metadata": {},
   "outputs": [
    {
     "data": {
      "text/plain": [
       "{'model_name': 'FashionModelSmall',\n",
       " 'model_loss': 1.7535064220428467,\n",
       " 'model_acc': 51.18809904153355}"
      ]
     },
     "execution_count": 22,
     "metadata": {},
     "output_type": "execute_result"
    }
   ],
   "source": [
    "model_1_results = eval_model(model_1,test_dataloader,loss_fn,acc_fn,device)\n",
    "model_1_results"
   ]
  },
  {
   "cell_type": "code",
   "execution_count": 23,
   "id": "8986140e",
   "metadata": {},
   "outputs": [
    {
     "name": "stdout",
     "output_type": "stream",
     "text": [
      "Mon Apr 28 23:48:43 2025       \n",
      "+-----------------------------------------------------------------------------------------+\n",
      "| NVIDIA-SMI 550.120                Driver Version: 550.120        CUDA Version: 12.4     |\n",
      "|-----------------------------------------+------------------------+----------------------+\n",
      "| GPU  Name                 Persistence-M | Bus-Id          Disp.A | Volatile Uncorr. ECC |\n",
      "| Fan  Temp   Perf          Pwr:Usage/Cap |           Memory-Usage | GPU-Util  Compute M. |\n",
      "|                                         |                        |               MIG M. |\n",
      "|=========================================+========================+======================|\n",
      "|   0  NVIDIA GeForce RTX 4060 ...    Off |   00000000:01:00.0 Off |                  N/A |\n",
      "| N/A   49C    P3             18W /   80W |     899MiB /   8188MiB |     25%      Default |\n",
      "|                                         |                        |                  N/A |\n",
      "+-----------------------------------------+------------------------+----------------------+\n",
      "                                                                                         \n",
      "+-----------------------------------------------------------------------------------------+\n",
      "| Processes:                                                                              |\n",
      "|  GPU   GI   CI        PID   Type   Process name                              GPU Memory |\n",
      "|        ID   ID                                                               Usage      |\n",
      "|=========================================================================================|\n",
      "|    0   N/A  N/A      1541      G   /usr/lib/xorg/Xorg                            264MiB |\n",
      "|    0   N/A  N/A      2007      G   /usr/bin/gnome-shell                           65MiB |\n",
      "|    0   N/A  N/A      4705      G   /usr/bin/gjs                                   14MiB |\n",
      "|    0   N/A  N/A      5721      G   /opt/brave.com/brave/brave                      2MiB |\n",
      "|    0   N/A  N/A      5773      G   ...dce53a9c8f623dd28fff2540a8d57a08bc3        111MiB |\n",
      "|    0   N/A  N/A      6839      G   ...erProcess --variations-seed-version        166MiB |\n",
      "|    0   N/A  N/A    871346      G   /usr/bin/vlc                                  108MiB |\n",
      "|    0   N/A  N/A    873400      C   /bin/python                                   144MiB |\n",
      "+-----------------------------------------------------------------------------------------+\n"
     ]
    }
   ],
   "source": [
    "!nvidia-smi"
   ]
  },
  {
   "cell_type": "code",
   "execution_count": 24,
   "id": "e7fa642a",
   "metadata": {},
   "outputs": [
    {
     "data": {
      "text/plain": [
       "({'model_name': 'FashionModelBase',\n",
       "  'model_loss': 0.6349838376045227,\n",
       "  'model_acc': 78.43450479233226},\n",
       " {'model_name': 'FashionModelSmall',\n",
       "  'model_loss': 1.7535064220428467,\n",
       "  'model_acc': 51.18809904153355})"
      ]
     },
     "execution_count": 24,
     "metadata": {},
     "output_type": "execute_result"
    }
   ],
   "source": [
    "model_0_results,model_1_results"
   ]
  },
  {
   "cell_type": "code",
   "execution_count": 25,
   "id": "e9b5f070",
   "metadata": {},
   "outputs": [],
   "source": [
    "\n",
    "class FashionModelCNNBase(nn.Module):\n",
    "    def __init__(self,input_shape,hidden_units,output_shape):\n",
    "        super(FashionModelCNNBase,self).__init__()\n",
    "        \n",
    "        self.conv_block_1 = nn.Sequential(\n",
    "            nn.Conv2d(in_channels=input_shape,\n",
    "                      out_channels=hidden_units,\n",
    "                      padding=1,\n",
    "                      stride=1,\n",
    "                      kernel_size=4),\n",
    "            nn.ReLU(),\n",
    "            nn.Conv2d(in_channels=hidden_units,\n",
    "                      out_channels=hidden_units,\n",
    "                      padding=1,\n",
    "                      stride=1,\n",
    "                      kernel_size=3),\n",
    "            nn.ReLU(),\n",
    "            nn.MaxPool2d(kernel_size=2)\n",
    "        )\n",
    "        \n",
    "        self.conv_block_2 = nn.Sequential(\n",
    "            nn.Conv2d(in_channels=hidden_units,\n",
    "                      out_channels=hidden_units,\n",
    "                      padding=1,\n",
    "                      stride=1,\n",
    "                      kernel_size=4),\n",
    "            nn.ReLU(),\n",
    "            nn.Conv2d(in_channels=hidden_units,\n",
    "                      out_channels=hidden_units,\n",
    "                      padding=1,\n",
    "                      stride=1,\n",
    "                      kernel_size=3),\n",
    "            nn.ReLU(),\n",
    "            nn.MaxPool2d(kernel_size=2)\n",
    "        )\n",
    "\n",
    "        self.classifier = nn.Sequential(\n",
    "            nn.Flatten(),\n",
    "            nn.Linear(in_features=hidden_units*6*6,\n",
    "                      out_features=output_shape),\n",
    "        )\n",
    "\n",
    "    def forward(self,x):\n",
    "        x = x.to(device)\n",
    "        x = self.conv_block_1(x)\n",
    "        # print(x.shape)\n",
    "        \n",
    "        x = self.conv_block_2(x)\n",
    "        # print(x.shape)\n",
    "        \n",
    "        x = self.classifier(x)\n",
    "        \n",
    "        return x\n",
    "        "
   ]
  },
  {
   "cell_type": "code",
   "execution_count": 26,
   "id": "20048344",
   "metadata": {},
   "outputs": [
    {
     "data": {
      "text/plain": [
       "torch.Size([1, 28, 28])"
      ]
     },
     "execution_count": 26,
     "metadata": {},
     "output_type": "execute_result"
    }
   ],
   "source": [
    "image.shape"
   ]
  },
  {
   "cell_type": "code",
   "execution_count": 27,
   "id": "923d47c5",
   "metadata": {},
   "outputs": [],
   "source": [
    "# img = train_data[0][0].unsqueeze(0)\n",
    "# model_2(img)\n",
    "# print(train_data[0][0].shape,train_data[0][0].unsqueeze(0).shape)\n"
   ]
  },
  {
   "cell_type": "code",
   "execution_count": 28,
   "id": "2fbca54f",
   "metadata": {},
   "outputs": [],
   "source": [
    "# dummy_image = torch.rand([10,1,64,64])\n",
    "# img,label  = train_data[0]\n",
    "# print(img.shape)\n",
    "\n",
    "# plt.imshow(img[0],cmap=\"gray\")"
   ]
  },
  {
   "cell_type": "code",
   "execution_count": 29,
   "id": "5c9a134c",
   "metadata": {},
   "outputs": [
    {
     "data": {
      "text/plain": [
       "torch.Size([1, 10, 4, 4])"
      ]
     },
     "execution_count": 29,
     "metadata": {},
     "output_type": "execute_result"
    }
   ],
   "source": [
    "torch.manual_seed(42)\n",
    "\n",
    "\n",
    "conv_layer =nn.Conv2d(in_channels=1,\n",
    "                      out_channels=10,\n",
    "                      padding=10,\n",
    "                      stride=10,\n",
    "                      kernel_size=10)\n",
    "\n",
    "conv_output = conv_layer(img.unsqueeze(0))\n",
    "\n",
    "conv_output.shape"
   ]
  },
  {
   "cell_type": "code",
   "execution_count": 30,
   "id": "b26c6956",
   "metadata": {},
   "outputs": [],
   "source": [
    "from helper_functions import accuracy_fn\n",
    "torch.manual_seed(42)\n",
    "\n",
    "model_2 = FashionModelCNNBase(input_shape=1,\n",
    "                             hidden_units=10,\n",
    "                             output_shape=len(class_names)).to(device)\n",
    "\n",
    "optimizer = torch.optim.SGD(params=model_2.parameters(),lr=0.1)\n",
    "loss_fn = nn.CrossEntropyLoss()"
   ]
  },
  {
   "cell_type": "code",
   "execution_count": 31,
   "id": "20914db6",
   "metadata": {},
   "outputs": [
    {
     "data": {
      "application/vnd.jupyter.widget-view+json": {
       "model_id": "4285ed34a7c7460c8a77301aa6a94e5d",
       "version_major": 2,
       "version_minor": 0
      },
      "text/plain": [
       "  0%|          | 0/10 [00:00<?, ?it/s]"
      ]
     },
     "metadata": {},
     "output_type": "display_data"
    },
    {
     "name": "stdout",
     "output_type": "stream",
     "text": [
      "Epoch 1\n",
      "......\n",
      " Train Loss: 0.6361 || Train Accuracy 76.78%\n",
      " Test Loss: 84.2252 || Test Accuracy 84.23%\n",
      "Epoch 2\n",
      "......\n",
      " Train Loss: 0.3923 || Train Accuracy 85.73%\n",
      " Test Loss: 83.9756 || Test Accuracy 83.98%\n",
      "Epoch 3\n",
      "......\n",
      " Train Loss: 0.3538 || Train Accuracy 87.11%\n",
      " Test Loss: 87.3203 || Test Accuracy 87.32%\n",
      "Epoch 4\n",
      "......\n",
      " Train Loss: 0.3340 || Train Accuracy 87.73%\n",
      " Test Loss: 86.4916 || Test Accuracy 86.49%\n",
      "Epoch 5\n",
      "......\n",
      " Train Loss: 0.3161 || Train Accuracy 88.33%\n",
      " Test Loss: 87.6997 || Test Accuracy 87.70%\n",
      "Epoch 6\n",
      "......\n",
      " Train Loss: 0.3052 || Train Accuracy 88.91%\n",
      " Test Loss: 87.8095 || Test Accuracy 87.81%\n",
      "Epoch 7\n",
      "......\n",
      " Train Loss: 0.2965 || Train Accuracy 89.22%\n",
      " Test Loss: 87.9593 || Test Accuracy 87.96%\n",
      "Epoch 8\n",
      "......\n",
      " Train Loss: 0.2896 || Train Accuracy 89.31%\n",
      " Test Loss: 88.0791 || Test Accuracy 88.08%\n",
      "Epoch 9\n",
      "......\n",
      " Train Loss: 0.2815 || Train Accuracy 89.63%\n",
      " Test Loss: 88.0192 || Test Accuracy 88.02%\n",
      "Epoch 10\n",
      "......\n",
      " Train Loss: 0.2771 || Train Accuracy 89.80%\n",
      " Test Loss: 88.8578 || Test Accuracy 88.86%\n",
      "Train Time on cuda:0 is 61.9647\n"
     ]
    }
   ],
   "source": [
    "epochs = 10\n",
    "\n",
    "\n",
    "\n",
    "cnn_start_time = timer()\n",
    "for epoch in tqdm(range(epochs)):\n",
    "    print(f\"Epoch {epoch+1}\\n......\")\n",
    "    train_step(model_2,optimizer,loss_fn,train_dataloader,device)\n",
    "    test_step(model_2,loss_fn,test_dataloader,device)\n",
    "    \n",
    "\n",
    "cnn_end_time = timer()\n",
    "\n",
    "\n",
    "exec_time = execution_time(cnn_start_time,cnn_end_time,str(next(model_2.parameters()).device)) "
   ]
  },
  {
   "cell_type": "code",
   "execution_count": 32,
   "id": "053d538b",
   "metadata": {},
   "outputs": [
    {
     "name": "stdout",
     "output_type": "stream",
     "text": [
      "Mon Apr 28 23:49:46 2025       \n",
      "+-----------------------------------------------------------------------------------------+\n",
      "| NVIDIA-SMI 550.120                Driver Version: 550.120        CUDA Version: 12.4     |\n",
      "|-----------------------------------------+------------------------+----------------------+\n",
      "| GPU  Name                 Persistence-M | Bus-Id          Disp.A | Volatile Uncorr. ECC |\n",
      "| Fan  Temp   Perf          Pwr:Usage/Cap |           Memory-Usage | GPU-Util  Compute M. |\n",
      "|                                         |                        |               MIG M. |\n",
      "|=========================================+========================+======================|\n",
      "|   0  NVIDIA GeForce RTX 4060 ...    Off |   00000000:01:00.0 Off |                  N/A |\n",
      "| N/A   52C    P0             23W /   80W |     900MiB /   8188MiB |     23%      Default |\n",
      "|                                         |                        |                  N/A |\n",
      "+-----------------------------------------+------------------------+----------------------+\n",
      "                                                                                         \n",
      "+-----------------------------------------------------------------------------------------+\n",
      "| Processes:                                                                              |\n",
      "|  GPU   GI   CI        PID   Type   Process name                              GPU Memory |\n",
      "|        ID   ID                                                               Usage      |\n",
      "|=========================================================================================|\n",
      "|    0   N/A  N/A      1541      G   /usr/lib/xorg/Xorg                            264MiB |\n",
      "|    0   N/A  N/A      2007      G   /usr/bin/gnome-shell                           56MiB |\n",
      "|    0   N/A  N/A      4705      G   /usr/bin/gjs                                   14MiB |\n",
      "|    0   N/A  N/A      5721      G   /opt/brave.com/brave/brave                      2MiB |\n",
      "|    0   N/A  N/A      5773      G   ...dce53a9c8f623dd28fff2540a8d57a08bc3         95MiB |\n",
      "|    0   N/A  N/A      6839      G   ...erProcess --variations-seed-version        160MiB |\n",
      "|    0   N/A  N/A    871346      G   /usr/bin/vlc                                  108MiB |\n",
      "|    0   N/A  N/A    873400      C   /bin/python                                   176MiB |\n",
      "+-----------------------------------------------------------------------------------------+\n"
     ]
    }
   ],
   "source": [
    "!nvidia-smi"
   ]
  },
  {
   "cell_type": "code",
   "execution_count": 33,
   "id": "8bc3f67d",
   "metadata": {},
   "outputs": [
    {
     "data": {
      "text/plain": [
       "({'model_name': 'FashionModelBase',\n",
       "  'model_loss': 0.6349838376045227,\n",
       "  'model_acc': 78.43450479233226},\n",
       " {'model_name': 'FashionModelSmall',\n",
       "  'model_loss': 1.7535064220428467,\n",
       "  'model_acc': 51.18809904153355},\n",
       " {'model_name': 'FashionModelCNNBase',\n",
       "  'model_loss': 0.31103384494781494,\n",
       "  'model_acc': 88.85782747603834})"
      ]
     },
     "execution_count": 33,
     "metadata": {},
     "output_type": "execute_result"
    }
   ],
   "source": [
    "model_2_results = eval_model(model_2,test_dataloader,loss_fn,accuracy_fn,device)\n",
    "\n",
    "model_0_results,model_1_results,model_2_results"
   ]
  },
  {
   "cell_type": "code",
   "execution_count": 34,
   "id": "f1e0c3e1",
   "metadata": {},
   "outputs": [
    {
     "data": {
      "text/plain": [
       "Text(0, 0.5, 'model')"
      ]
     },
     "execution_count": 34,
     "metadata": {},
     "output_type": "execute_result"
    },
    {
     "data": {
      "image/png": "[encoded data removed]",
      "text/plain": [
       "<Figure size 640x480 with 1 Axes>"
      ]
     },
     "metadata": {},
     "output_type": "display_data"
    }
   ],
   "source": [
    "overall_results = pd.DataFrame(\n",
    "    [model_0_results,model_1_results,model_2_results]\n",
    ")\n",
    "\n",
    "overall_results.set_index(\"model_name\")[\"model_acc\"].plot(kind=\"barh\")\n",
    "plt.xlabel(\"accuracy\")\n",
    "plt.ylabel(\"model\")"
   ]
  },
  {
   "cell_type": "code",
   "execution_count": 35,
   "id": "1e69aeea",
   "metadata": {},
   "outputs": [
    {
     "name": "stdout",
     "output_type": "stream",
     "text": [
      "Test sample image shape: torch.Size([1, 28, 28])\n",
      "Test sample label: 5 (Sandal)\n"
     ]
    }
   ],
   "source": [
    "import random\n",
    "random.seed(42)\n",
    "test_samples = []\n",
    "test_labels = []\n",
    "for sample, label in random.sample(list(test_data), k=9):\n",
    "    test_samples.append(sample)\n",
    "    test_labels.append(label)\n",
    "\n",
    "# View the first test sample shape and label\n",
    "print(f\"Test sample image shape: {test_samples[0].shape}\\nTest sample label: {test_labels[0]} ({class_names[test_labels[0]]})\")"
   ]
  },
  {
   "cell_type": "code",
   "execution_count": 36,
   "id": "9c62bea2",
   "metadata": {},
   "outputs": [],
   "source": [
    "def make_predictions(model: torch.nn.Module, data: list, device: torch.device = device):\n",
    "    pred_probs = []\n",
    "    model.eval()\n",
    "    with torch.inference_mode():\n",
    "        for sample in data:\n",
    "            # Prepare sample\n",
    "            sample = torch.unsqueeze(sample, dim=0).to(device) # Add an extra dimension and send sample to device\n",
    "\n",
    "            # Forward pass (model outputs raw logit)\n",
    "            pred_logit = model(sample)\n",
    "\n",
    "            # Get prediction probability (logit -> prediction probability)\n",
    "            pred_prob = torch.softmax(pred_logit.squeeze(), dim=0) # note: perform softmax on the \"logits\" dimension, not \"batch\" dimension (in this case we have a batch size of 1, so can perform on dim=0)\n",
    "\n",
    "            # Get pred_prob off GPU for further calculations\n",
    "            pred_probs.append(pred_prob.cpu())\n",
    "            \n",
    "    # Stack the pred_probs to turn list into a tensor\n",
    "    return torch.stack(pred_probs)"
   ]
  },
  {
   "cell_type": "code",
   "execution_count": 37,
   "id": "e5013527",
   "metadata": {},
   "outputs": [
    {
     "data": {
      "text/plain": [
       "tensor([5, 1, 7, 2, 3, 0, 4, 7, 1])"
      ]
     },
     "execution_count": 37,
     "metadata": {},
     "output_type": "execute_result"
    }
   ],
   "source": [
    "# Make predictions on test samples with model 2\n",
    "pred_probs= make_predictions(model=model_2, \n",
    "                             data=test_samples)\n",
    "\n",
    "# View first two prediction probabilities list\n",
    "pred_probs[:2]\n",
    "\n",
    "pred_classes = pred_probs.argmax(dim=1)\n",
    "pred_classes"
   ]
  },
  {
   "cell_type": "code",
   "execution_count": 38,
   "id": "821891f3",
   "metadata": {},
   "outputs": [
    {
     "data": {
      "image/png": "[encoded data removed]",
      "text/plain": [
       "<Figure size 900x900 with 9 Axes>"
      ]
     },
     "metadata": {},
     "output_type": "display_data"
    }
   ],
   "source": [
    "# Plot predictions\n",
    "plt.figure(figsize=(9, 9))\n",
    "nrows = 3\n",
    "ncols = 3\n",
    "for i, sample in enumerate(test_samples):\n",
    "  # Create a subplot\n",
    "  plt.subplot(nrows, ncols, i+1)\n",
    "\n",
    "  # Plot the target image\n",
    "  plt.imshow(sample.squeeze(), cmap=\"gray\")\n",
    "\n",
    "  # Find the prediction label (in text form, e.g. \"Sandal\")\n",
    "  pred_label = class_names[pred_classes[i]]\n",
    "\n",
    "  # Get the truth label (in text form, e.g. \"T-shirt\")\n",
    "  truth_label = class_names[test_labels[i]] \n",
    "\n",
    "  # Create the title text of the plot\n",
    "  title_text = f\"Pred: {pred_label} | Truth: {truth_label}\"\n",
    "  \n",
    "  # Check for equality and change title colour accordingly\n",
    "  if pred_label == truth_label:\n",
    "      plt.title(title_text, fontsize=10, c=\"g\") # green text if correct\n",
    "  else:\n",
    "      plt.title(title_text, fontsize=10, c=\"r\") # red text if wrong\n",
    "  plt.axis(False);"
   ]
  },
  {
   "cell_type": "code",
   "execution_count": 39,
   "id": "a9ba0706",
   "metadata": {},
   "outputs": [
    {
     "data": {
      "text/plain": [
       "['T-shirt/top',\n",
       " 'Trouser',\n",
       " 'Pullover',\n",
       " 'Dress',\n",
       " 'Coat',\n",
       " 'Sandal',\n",
       " 'Shirt',\n",
       " 'Sneaker',\n",
       " 'Bag',\n",
       " 'Ankle boot']"
      ]
     },
     "execution_count": 39,
     "metadata": {},
     "output_type": "execute_result"
    }
   ],
   "source": [
    "class_names"
   ]
  },
  {
   "cell_type": "code",
   "execution_count": 41,
   "id": "d59e56ba",
   "metadata": {},
   "outputs": [
    {
     "data": {
      "application/vnd.jupyter.widget-view+json": {
       "model_id": "5dc7568f77004ce58df4b6fd83e0a09c",
       "version_major": 2,
       "version_minor": 0
      },
      "text/plain": [
       "Making predictions:   0%|          | 0/313 [00:00<?, ?it/s]"
      ]
     },
     "metadata": {},
     "output_type": "display_data"
    }
   ],
   "source": [
    "# Import tqdm for progress bar\n",
    "from tqdm.auto import tqdm\n",
    "\n",
    "# 1. Make predictions with trained model\n",
    "y_preds = []\n",
    "model_2.eval()\n",
    "with torch.inference_mode():\n",
    "  for X, y in tqdm(test_dataloader, desc=\"Making predictions\"):\n",
    "    # Send data and targets to target device\n",
    "    X, y = X.to(device), y.to(device)\n",
    "    # Do the forward pass\n",
    "    y_logit = model_2(X)\n",
    "    # Turn predictions from logits -> prediction probabilities -> predictions labels\n",
    "    y_pred = torch.softmax(y_logit, dim=1).argmax(dim=1) # note: perform softmax on the \"logits\" dimension, not \"batch\" dimension (in this case we have a batch size of 32, so can perform on dim=1)\n",
    "    # Put predictions on CPU for evaluation\n",
    "    y_preds.append(y_pred.cpu())\n",
    "# Concatenate list of predictions into a tensor\n",
    "y_pred_tensor = torch.cat(y_preds)"
   ]
  },
  {
   "cell_type": "code",
   "execution_count": 43,
   "id": "017facdd",
   "metadata": {},
   "outputs": [
    {
     "data": {
      "image/png": "[encoded data removed]",
      "text/plain": [
       "<Figure size 1000x700 with 1 Axes>"
      ]
     },
     "metadata": {},
     "output_type": "display_data"
    }
   ],
   "source": [
    "# !pip install mlxtend torchmetrics\n",
    "import mlxtend\n",
    "from torchmetrics import ConfusionMatrix\n",
    "from mlxtend.plotting import plot_confusion_matrix\n",
    "\n",
    "confmat = ConfusionMatrix(num_classes=len(class_names),task=\"multiclass\")\n",
    "confmat_tensor = confmat(y_pred_tensor,test_data.targets)\n",
    "\n",
    "\n",
    "fig,ax = plot_confusion_matrix(\n",
    "    conf_mat=confmat_tensor.numpy(),\n",
    "    class_names=class_names,\n",
    "    figsize=(10,7)\n",
    ")\n",
    "\n",
    "\n",
    "\n"
   ]
  },
  {
   "cell_type": "code",
   "execution_count": 46,
   "id": "292c8266",
   "metadata": {},
   "outputs": [],
   "source": [
    "from pathlib import Path\n",
    "\n",
    "MODEL_PATH = Path(\"Models\")\n",
    "MODEL_PATH.mkdir(parents=True,exist_ok=True)\n",
    "\n",
    "MODEL_NAME = \"FashionCNN\"\n",
    "\n",
    "MODEL_SAVE_PATH = MODEL_PATH / MODEL_NAME\n",
    "\n",
    "\n",
    "torch.save(obj =  model_2.state_dict(),f=MODEL_SAVE_PATH)"
   ]
  },
  {
   "cell_type": "code",
   "execution_count": 49,
   "id": "8439e4b1",
   "metadata": {},
   "outputs": [
    {
     "data": {
      "text/plain": [
       "FashionModelCNNBase(\n",
       "  (conv_block_1): Sequential(\n",
       "    (0): Conv2d(1, 10, kernel_size=(4, 4), stride=(1, 1), padding=(1, 1))\n",
       "    (1): ReLU()\n",
       "    (2): Conv2d(10, 10, kernel_size=(3, 3), stride=(1, 1), padding=(1, 1))\n",
       "    (3): ReLU()\n",
       "    (4): MaxPool2d(kernel_size=2, stride=2, padding=0, dilation=1, ceil_mode=False)\n",
       "  )\n",
       "  (conv_block_2): Sequential(\n",
       "    (0): Conv2d(10, 10, kernel_size=(4, 4), stride=(1, 1), padding=(1, 1))\n",
       "    (1): ReLU()\n",
       "    (2): Conv2d(10, 10, kernel_size=(3, 3), stride=(1, 1), padding=(1, 1))\n",
       "    (3): ReLU()\n",
       "    (4): MaxPool2d(kernel_size=2, stride=2, padding=0, dilation=1, ceil_mode=False)\n",
       "  )\n",
       "  (classifier): Sequential(\n",
       "    (0): Flatten(start_dim=1, end_dim=-1)\n",
       "    (1): Linear(in_features=360, out_features=10, bias=True)\n",
       "  )\n",
       ")"
      ]
     },
     "execution_count": 49,
     "metadata": {},
     "output_type": "execute_result"
    }
   ],
   "source": [
    "torch.manual_seed(42)\n",
    "load_model = FashionModelCNNBase(input_shape=1,hidden_units=10,output_shape=len(class_names))\n",
    "\n",
    "load_model.load_state_dict(torch.load(f=MODEL_SAVE_PATH))\n",
    "\n",
    "load_model.to(device)\n"
   ]
  },
  {
   "cell_type": "code",
   "execution_count": 51,
   "id": "573a1cc6",
   "metadata": {},
   "outputs": [
    {
     "data": {
      "text/plain": [
       "{'model_name': 'FashionModelCNNBase',\n",
       " 'model_loss': 0.31103384494781494,\n",
       " 'model_acc': 88.85782747603834}"
      ]
     },
     "execution_count": 51,
     "metadata": {},
     "output_type": "execute_result"
    }
   ],
   "source": [
    "torch.manual_seed(42)\n",
    "\n",
    "load_model_results = eval_model(\n",
    "    load_model,\n",
    "    test_dataloader,\n",
    "    loss_fn,\n",
    "    accuracy_fn,\n",
    "    device\n",
    ")\n",
    "load_model_results"
   ]
  },
  {
   "cell_type": "code",
   "execution_count": 52,
   "id": "4dafa6cc",
   "metadata": {},
   "outputs": [
    {
     "data": {
      "text/plain": [
       "({'model_name': 'FashionModelCNNBase',\n",
       "  'model_loss': 0.31103384494781494,\n",
       "  'model_acc': 88.85782747603834},\n",
       " {'model_name': 'FashionModelCNNBase',\n",
       "  'model_loss': 0.31103384494781494,\n",
       "  'model_acc': 88.85782747603834})"
      ]
     },
     "execution_count": 52,
     "metadata": {},
     "output_type": "execute_result"
    }
   ],
   "source": [
    "model_2_results,load_model_results\n"
   ]
  },
  {
   "cell_type": "code",
   "execution_count": null,
   "id": "53230f6e",
   "metadata": {},
   "outputs": [],
   "source": []
  }
 ],
 "metadata": {
  "kernelspec": {
   "display_name": "Python 3",
   "language": "python",
   "name": "python3"
  },
  "language_info": {
   "codemirror_mode": {
    "name": "ipython",
    "version": 3
   },
   "file_extension": ".py",
   "mimetype": "text/x-python",
   "name": "python",
   "nbconvert_exporter": "python",
   "pygments_lexer": "ipython3",
   "version": "3.10.12"
  }
 },
 "nbformat": 4,
 "nbformat_minor": 5
}
