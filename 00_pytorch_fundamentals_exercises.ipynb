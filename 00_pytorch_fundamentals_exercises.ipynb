{
 "cells": [
  {
   "cell_type": "markdown",
   "metadata": {
    "id": "AzDBM_v4iMe7"
   },
   "source": [
    "# 00. PyTorch Fundamentals Exercises\n",
    "\n",
    "### 1. Documentation reading \n",
    "\n",
    "A big part of deep learning (and learning to code in general) is getting familiar with the documentation of a certain framework you're using. We'll be using the PyTorch documentation a lot throughout the rest of this course. So I'd recommend spending 10-minutes reading the following (it's okay if you don't get some things for now, the focus is not yet full understanding, it's awareness):\n",
    "  * The documentation on [`torch.Tensor`](https://pytorch.org/docs/stable/tensors.html#torch-tensor).\n",
    "  * The documentation on [`torch.cuda`](https://pytorch.org/docs/master/notes/cuda.html#cuda-semantics).\n",
    "\n"
   ]
  },
  {
   "cell_type": "code",
   "execution_count": 1,
   "metadata": {
    "id": "bGD0oD8Kizak"
   },
   "outputs": [],
   "source": [
    "# No code solution (reading)"
   ]
  },
  {
   "cell_type": "markdown",
   "metadata": {
    "id": "__iXqqz-ioUJ"
   },
   "source": [
    "### 2. Create a random tensor with shape `(7, 7)`.\n"
   ]
  },
  {
   "cell_type": "code",
   "execution_count": 3,
   "metadata": {
    "id": "6pUq9Dc8i2L7"
   },
   "outputs": [
    {
     "data": {
      "text/plain": [
       "tensor([[0.0120, 0.8221, 0.4094, 0.3023, 0.5309, 0.5230, 0.6358],\n",
       "        [0.2902, 0.1498, 0.9457, 0.0504, 0.6050, 0.0367, 0.7353],\n",
       "        [0.7575, 0.0485, 0.4776, 0.1673, 0.2836, 0.3550, 0.4991],\n",
       "        [0.9077, 0.8878, 0.9877, 0.5820, 0.7941, 0.6292, 0.3127],\n",
       "        [0.7662, 0.0232, 0.8726, 0.1997, 0.8049, 0.8482, 0.7641],\n",
       "        [0.3798, 0.5618, 0.4456, 0.8109, 0.6427, 0.1089, 0.4602],\n",
       "        [0.1147, 0.2600, 0.3204, 0.0584, 0.9997, 0.8500, 0.2930]])"
      ]
     },
     "execution_count": 3,
     "metadata": {},
     "output_type": "execute_result"
    }
   ],
   "source": [
    "import torch\n",
    "\n",
    "a = torch.rand(7,7)\n",
    "a\n",
    "\n",
    "# Create random tensor\n"
   ]
  },
  {
   "cell_type": "markdown",
   "metadata": {
    "id": "9-XxvRLfiqkR"
   },
   "source": [
    "### 3. Perform a matrix multiplication on the tensor from 2 with another random tensor with shape `(1, 7)` (hint: you may have to transpose the second tensor)."
   ]
  },
  {
   "cell_type": "code",
   "execution_count": 4,
   "metadata": {
    "id": "NcLqR0Sbi_vT"
   },
   "outputs": [
    {
     "data": {
      "text/plain": [
       "tensor([[1.5416],\n",
       "        [1.4945],\n",
       "        [1.2077],\n",
       "        [2.0729],\n",
       "        [2.0830],\n",
       "        [1.6890],\n",
       "        [1.1926]])"
      ]
     },
     "execution_count": 4,
     "metadata": {},
     "output_type": "execute_result"
    }
   ],
   "source": [
    "# Create another random tensor\n",
    "b=torch.rand(1,7)\n",
    "a@b.T\n",
    "# Perform matrix multiplication \n"
   ]
  },
  {
   "cell_type": "markdown",
   "metadata": {
    "id": "eiutdKUFiryU"
   },
   "source": [
    "### 4. Set the random seed to `0` and do 2 & 3 over again.\n",
    "\n",
    "The output should be:\n",
    "```\n",
    "(tensor([[1.8542],\n",
    "         [1.9611],\n",
    "         [2.2884],\n",
    "         [3.0481],\n",
    "         [1.7067],\n",
    "         [2.5290],\n",
    "         [1.7989]]), torch.Size([7, 1]))\n",
    "```"
   ]
  },
  {
   "cell_type": "code",
   "execution_count": 5,
   "metadata": {
    "id": "D-lOWI_1jRMm"
   },
   "outputs": [
    {
     "data": {
      "text/plain": [
       "tensor([[1.5985],\n",
       "        [1.1173],\n",
       "        [1.2741],\n",
       "        [1.6838],\n",
       "        [0.8279],\n",
       "        [1.0347],\n",
       "        [1.2498]])"
      ]
     },
     "execution_count": 5,
     "metadata": {},
     "output_type": "execute_result"
    }
   ],
   "source": [
    "# Set manual seed\n",
    "torch.manual_seed(0)\n",
    "\n",
    "# Create two random tensors\n",
    "a = torch.rand(7,7)\n",
    "torch.manual_seed(0)\n",
    "b = torch.rand(1,7)\n",
    "\n",
    "\n",
    "# Matrix multiply tensors\n",
    "torch.matmul(a,b.T)"
   ]
  },
  {
   "cell_type": "markdown",
   "metadata": {
    "id": "ezY6ks9Cis37"
   },
   "source": [
    "### 5. Speaking of random seeds, we saw how to set it with `torch.manual_seed()` but is there a GPU equivalent? (hint: you'll need to look into the documentation for `torch.cuda` for this one)\n",
    "  * If there is, set the GPU random seed to `1234`."
   ]
  },
  {
   "cell_type": "code",
   "execution_count": 6,
   "metadata": {
    "id": "_LKWcfSTjp00"
   },
   "outputs": [],
   "source": [
    "# Set random seed on the GPU\n",
    "torch.cuda.manual_seed(0)"
   ]
  },
  {
   "cell_type": "markdown",
   "metadata": {
    "id": "Ir9qSaj6it4n"
   },
   "source": [
    "\n",
    "### 6. Create two random tensors of shape `(2, 3)` and send them both to the GPU (you'll need access to a GPU for this). Set `torch.manual_seed(1234)` when creating the tensors (this doesn't have to be the GPU random seed). The output should be something like:\n",
    "\n",
    "```\n",
    "Device: cuda\n",
    "(tensor([[0.0290, 0.4019, 0.2598],\n",
    "         [0.3666, 0.0583, 0.7006]], device='cuda:0'),\n",
    " tensor([[0.0518, 0.4681, 0.6738],\n",
    "         [0.3315, 0.7837, 0.5631]], device='cuda:0'))\n",
    "```"
   ]
  },
  {
   "cell_type": "code",
   "execution_count": 8,
   "metadata": {
    "id": "azXExiFZj5nm"
   },
   "outputs": [
    {
     "data": {
      "text/plain": [
       "(tensor([[0.1272, 0.8167, 0.5440, 0.6601, 0.2721, 0.9737, 0.3903],\n",
       "         [0.3394, 0.5451, 0.7312, 0.3864, 0.5959, 0.7578, 0.2126],\n",
       "         [0.7198, 0.9845, 0.5518, 0.0981, 0.0582, 0.5839, 0.1083],\n",
       "         [0.9461, 0.3170, 0.8328, 0.6676, 0.2886, 0.9022, 0.8115],\n",
       "         [0.1784, 0.9534, 0.1486, 0.3882, 0.7977, 0.1752, 0.5777],\n",
       "         [0.1949, 0.8499, 0.3125, 0.2156, 0.0383, 0.4934, 0.3138],\n",
       "         [0.3121, 0.5664, 0.1266, 0.7097, 0.0040, 0.5147, 0.2811]],\n",
       "        device='cuda:0'),\n",
       " tensor([[0.1272, 0.8167, 0.5440, 0.6601, 0.2721, 0.9737, 0.3903]],\n",
       "        device='cuda:0'))"
      ]
     },
     "execution_count": 8,
     "metadata": {},
     "output_type": "execute_result"
    }
   ],
   "source": [
    "# Set random seed\n",
    "torch.manual_seed(1234)\n",
    "a = torch.rand(7,7,device='cuda')\n",
    "torch.manual_seed(1234)\n",
    "b = torch.rand(1,7,device='cuda')\n",
    "\n",
    "# Check for access to GPU\n",
    "\n",
    "# Create two random tensors on GPU\n",
    "a,b"
   ]
  },
  {
   "cell_type": "markdown",
   "metadata": {
    "id": "5TlAxeiSiu1y"
   },
   "source": [
    "\n",
    "### 7. Perform a matrix multiplication on the tensors you created in 6 (again, you may have to adjust the shapes of one of the tensors).\n",
    "\n",
    "The output should look like:\n",
    "```\n",
    "(tensor([[0.3647, 0.4709],\n",
    "         [0.5184, 0.5617]], device='cuda:0'), torch.Size([2, 2]))\n",
    "```"
   ]
  },
  {
   "cell_type": "code",
   "execution_count": 11,
   "metadata": {
    "id": "fAeG7ox0lHEO"
   },
   "outputs": [],
   "source": [
    "# Perform matmul on tensor_A and tensor_B\n",
    "c=a@b.T"
   ]
  },
  {
   "cell_type": "markdown",
   "metadata": {
    "id": "G7qfa5CSivwg"
   },
   "source": [
    "### 8. Find the maximum and minimum values of the output of 7."
   ]
  },
  {
   "cell_type": "code",
   "execution_count": 13,
   "metadata": {
    "id": "Fu8_3mZpllOd"
   },
   "outputs": [
    {
     "data": {
      "text/plain": [
       "(tensor(2.5893, device='cuda:0'), tensor(1.6445, device='cuda:0'))"
      ]
     },
     "execution_count": 13,
     "metadata": {},
     "output_type": "execute_result"
    }
   ],
   "source": [
    "# Find max\n",
    "torch.max(c)\n",
    "# Find min\n",
    "torch.min(c)\n",
    "\n",
    "torch.max(c),\\\n",
    "torch.min(c)"
   ]
  },
  {
   "cell_type": "markdown",
   "metadata": {
    "id": "wrTj5FgNiw47"
   },
   "source": [
    "### 9. Find the maximum and minimum index values of the output of 7."
   ]
  },
  {
   "cell_type": "code",
   "execution_count": 16,
   "metadata": {
    "id": "CCEKt4K2lsfQ"
   },
   "outputs": [
    {
     "data": {
      "text/plain": [
       "(tensor(15, device='cuda:0'), tensor(46, device='cuda:0'))"
      ]
     },
     "execution_count": 16,
     "metadata": {},
     "output_type": "execute_result"
    }
   ],
   "source": [
    "# Find arg max\n",
    "\n",
    "torch.argmax(a)\n",
    "# Find arg min\n",
    "torch.argmin(a)\n",
    "torch.argmax(a),\\\n",
    "torch.argmin(a),"
   ]
  },
  {
   "cell_type": "markdown",
   "metadata": {
    "id": "hmeybz4uixy7"
   },
   "source": [
    "\n",
    "### 10. Make a random tensor with shape `(1, 1, 1, 10)` and then create a new tensor with all the `1` dimensions removed to be left with a tensor of shape `(10)`. Set the seed to `7` when you create it and print out the first tensor and it's shape as well as the second tensor and it's shape.\n",
    "\n",
    "The output should look like:\n",
    "\n",
    "```\n",
    "tensor([[[[0.5349, 0.1988, 0.6592, 0.6569, 0.2328, 0.4251, 0.2071, 0.6297,\n",
    "           0.3653, 0.8513]]]]) torch.Size([1, 1, 1, 10])\n",
    "tensor([0.5349, 0.1988, 0.6592, 0.6569, 0.2328, 0.4251, 0.2071, 0.6297, 0.3653,\n",
    "        0.8513]) torch.Size([10])\n",
    "```"
   ]
  },
  {
   "cell_type": "code",
   "execution_count": 18,
   "metadata": {
    "id": "TQ9zbRzVl1jV"
   },
   "outputs": [
    {
     "data": {
      "text/plain": [
       "(tensor([[[[0.5349, 0.1988, 0.6592, 0.6569, 0.2328, 0.4251, 0.2071, 0.6297,\n",
       "            0.3653, 0.8513]]]]),\n",
       " torch.Size([1, 1, 1, 10]),\n",
       " tensor([0.5349, 0.1988, 0.6592, 0.6569, 0.2328, 0.4251, 0.2071, 0.6297, 0.3653,\n",
       "         0.8513]),\n",
       " torch.Size([10]))"
      ]
     },
     "execution_count": 18,
     "metadata": {},
     "output_type": "execute_result"
    }
   ],
   "source": [
    "# Set seed\n",
    "torch.manual_seed(7)\n",
    "\n",
    "\n",
    "# Create random tensor\n",
    "a = torch.rand(1,1,1,10)\n",
    "\n",
    "\n",
    "# Remove single dimensions\n",
    "b = a.squeeze()\n",
    "\n",
    "# Print out tensors and their shapes\n",
    "a,a.shape,b,b.shape"
   ]
  },
  {
   "cell_type": "code",
   "execution_count": null,
   "metadata": {},
   "outputs": [],
   "source": []
  }
 ],
 "metadata": {
  "accelerator": "GPU",
  "colab": {
   "collapsed_sections": [],
   "name": "00_pytorch_fundamentals_exercises.ipynb",
   "provenance": []
  },
  "kernelspec": {
   "display_name": "Python 3",
   "name": "python3"
  },
  "language_info": {
   "codemirror_mode": {
    "name": "ipython",
    "version": 3
   },
   "file_extension": ".py",
   "mimetype": "text/x-python",
   "name": "python",
   "nbconvert_exporter": "python",
   "pygments_lexer": "ipython3",
   "version": "3.11.6"
  }
 },
 "nbformat": 4,
 "nbformat_minor": 0
}
